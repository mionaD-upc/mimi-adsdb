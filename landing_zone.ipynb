{
 "cells": [
  {
   "cell_type": "markdown",
   "metadata": {},
   "source": [
    "# Landing zone"
   ]
  },
  {
   "cell_type": "code",
   "execution_count": 1,
   "metadata": {},
   "outputs": [],
   "source": [
    "# Uncomment to upgrade packages\n",
    "# ! pip install duckdb --user --upgrade --quiet\n",
    "# ! pip install pandas --user --upgrade --quiet\n",
    "# ! pip install ipython-sql --user --upgrade --quiet\n",
    "# ! pip install SQLAlchemy --user --upgrade --quiet\n",
    "# ! pip install duckdb-engine --user --upgrade --quiet"
   ]
  },
  {
   "cell_type": "code",
   "execution_count": 2,
   "metadata": {},
   "outputs": [],
   "source": [
    "import os\n",
    "import requests\n",
    "import shutil\n",
    "from datetime import date\n",
    "\n",
    "import pandas as pd\n",
    "import duckdb "
   ]
  },
  {
   "cell_type": "code",
   "execution_count": 3,
   "metadata": {},
   "outputs": [],
   "source": [
    "DATA = {\n",
    "    'household18.xls':'https://datos.madrid.es/egob/catalogo/300438-9-hogares-tama%C3%B1o.xls',\n",
    "    'household19.xls':'https://datos.madrid.es/egob/catalogo/300438-10-hogares-tama%C3%B1o.xls',\n",
    "    'household20.xls':'https://datos.madrid.es/egob/catalogo/300438-11-hogares-tama%C3%B1o.xls',\n",
    "    'nationalities18.xls':'https://www.madrid.org/iestadis/fijas/estructu/demograficas/padron/descarga/pc18t18_m5.xls',\n",
    "    'nationalities19.xls':'https://www.madrid.org/iestadis/fijas/estructu/demograficas/padron/descarga/pc19t19_m5.xls',\n",
    "    'nationalities20.xls':'https://www.madrid.org/iestadis/fijas/estructu/demograficas/padron/descarga/pc20t20_m5.xls',  \n",
    "}"
   ]
  },
  {
   "cell_type": "markdown",
   "metadata": {},
   "source": [
    "## Temporal zone"
   ]
  },
  {
   "cell_type": "code",
   "execution_count": 4,
   "metadata": {},
   "outputs": [],
   "source": [
    "def temporal_zone():\n",
    "    \"\"\"\n",
    "    Creates the landing/temporal folder and downloads the data if does not exist.\n",
    "    \n",
    "    \"\"\"\n",
    "\n",
    "    if not os.path.exists('./landing/temporal'): \n",
    "        os.makedirs('./landing/temporal')\n",
    "\n",
    "    for file, url in DATA.items():\n",
    "        if not os.path.exists(f'./landing/temporal/{file}'):\n",
    "            data_request = requests.get(url)\n",
    "            open(f'./landing/temporal/{file}', 'wb').write(data_request.content)"
   ]
  },
  {
   "cell_type": "code",
   "execution_count": 5,
   "metadata": {},
   "outputs": [],
   "source": [
    "# temporal_zone()"
   ]
  },
  {
   "cell_type": "markdown",
   "metadata": {},
   "source": [
    "## Persistent zone"
   ]
  },
  {
   "cell_type": "code",
   "execution_count": 6,
   "metadata": {},
   "outputs": [],
   "source": [
    "household_columns = ['section','delete','total','single_women_aged_16_to_64','single_men_aged_16_to_64','single_women_aged_65_or_over','single_men_aged_65_or_over',\n",
    "    'adult_women_with_one_or_more_minors','adult_men_with_one_or_more_minors','two_adults_from_16_to_64_and_without_minors',\n",
    "    'two_adults_one_at_least_65_and_without_minors','two_adults_and_one_minor','two_adults_and_two_minors','two_adults_and_three_or_more_minors',\n",
    "    'two_adults_over_35_and_one_adult_from_16_to_34','two_adults_over_35_and_one_adult_from_16_to_34_and_one_minor',\n",
    "    'two_adults_over_35_and_one_adult_from_16_to_34_and_two_minors','three_adults_and_0_or_more_minors','two_adults_over_35_and_two_adults_from_16_to_34',\n",
    "    'two_adults_over_35_and_two_adults_from_16_to_34_and_one_minor','two_adults_over_35_and_two_adults_from_16_to_34_and_two_or_more_minors',\n",
    "    'four_adults_and_0_or_more_minors','five_adults_and_0_or_more_minors','fifteen_or_more_inhabitants','only_minors']\n"
   ]
  },
  {
   "cell_type": "code",
   "execution_count": 7,
   "metadata": {},
   "outputs": [],
   "source": [
    "def tmp2persistent(file):\n",
    "    \"\"\"\n",
    "    Copies the temporary file to the persistent storage\n",
    "    Returns the path of the persistent file created\n",
    "    \"\"\"\n",
    "    today = date.today()\n",
    "    source = f'./landing/temporal/{file}'\n",
    "    destination = f'./landing/persistent/{today}_{file}'\n",
    "    shutil.copy(source,destination) \n",
    "    return destination\n",
    "\n",
    "def read_household(src_file):\n",
    "    \"\"\"\n",
    "    Reads the Household Excel\n",
    "    Returns the data in DataFrame format\n",
    "    \"\"\"\n",
    "    df = pd.read_excel(src_file,sheet_name='Composicion del hogar',header=[5],names=household_columns,na_values=None)\n",
    "    df['section'].fillna(df['delete'],inplace=True)\n",
    "    df.drop(labels='delete', axis=1, inplace=True)\n",
    "    df.dropna(inplace = True)\n",
    "    return df\n",
    "\n",
    "def read_nationalities(src_file):\n",
    "    \"\"\"\n",
    "    Reads the Nationalities Excel\n",
    "    Returns the data in DataFrame format\n",
    "    \"\"\"\n",
    "    df = pd.read_excel(src_file,sheet_name='Total',header=[7],na_values=None)\n",
    "    df.rename(columns = {'Unnamed: 0':'Code','Unnamed: 1':'Madrid','Unnamed: 2':'Habitantes','Unnamed: 3':'Españoles','Unnamed: 4':'Extranjeros'}, inplace = True)\n",
    "    df.drop(df.filter(regex=\"Unname\"),axis=1, inplace=True)\n",
    "    df.drop(df.filter(like='Total'),axis=1, inplace=True)\n",
    "    df.columns = df.columns.str.strip()\n",
    "    df.columns = df.columns.str.replace(' ', '_')\n",
    "    df.dropna(inplace = True)\n",
    "    return df\n",
    "    \n",
    "def create_DB(DB,df,table_name):\n",
    "    \"\"\"\n",
    "    Creates a persistent table in DuckDB from the contents of the DataFrame\n",
    "    \"\"\"\n",
    "    con = duckdb.connect(DB)\n",
    "    con.register(table_name,df)\n",
    "    con.execute(f'CREATE TABLE {table_name} AS SELECT * FROM {table_name}')\n",
    "    con.close()\n",
    "\n",
    "def persistent_zone():\n",
    "    \"\"\"\n",
    "    Creates the landing/persistent folder if not exists.\n",
    "    Stores all the data in a DB persistent table\n",
    "    \"\"\"\n",
    "    if not os.path.exists('./landing/persistent'): \n",
    "        os.makedirs('./landing/persistent')\n",
    "\n",
    "    for file in list(DATA.keys())[:3]: # household \n",
    "        path_pers = tmp2persistent(file)\n",
    "        df = read_household(path_pers)\n",
    "\n",
    "        table_name = file.split('.')[0]\n",
    "        print(table_name)\n",
    "        create_DB('household.duckdb',df,table_name)\n",
    "\n",
    "    for file in list(DATA.keys())[3:]: # nationalities\n",
    "        path_pers = tmp2persistent(file)\n",
    "        df = read_nationalities(path_pers)\n",
    "\n",
    "        table_name = file.split('.')[0]\n",
    "        print(table_name)\n",
    "        create_DB('nationalities.duckdb',df,table_name)\n",
    "    \n"
   ]
  },
  {
   "cell_type": "code",
   "execution_count": 8,
   "metadata": {},
   "outputs": [
    {
     "name": "stdout",
     "output_type": "stream",
     "text": [
      "household18\n",
      "household19\n",
      "household20\n",
      "nationalities18\n",
      "nationalities19\n",
      "nationalities20\n"
     ]
    }
   ],
   "source": [
    "persistent_zone()"
   ]
  }
 ],
 "metadata": {
  "kernelspec": {
   "display_name": "Python 3.10.4 64-bit",
   "language": "python",
   "name": "python3"
  },
  "language_info": {
   "codemirror_mode": {
    "name": "ipython",
    "version": 3
   },
   "file_extension": ".py",
   "mimetype": "text/x-python",
   "name": "python",
   "nbconvert_exporter": "python",
   "pygments_lexer": "ipython3",
   "version": "3.10.6"
  },
  "orig_nbformat": 4,
  "vscode": {
   "interpreter": {
    "hash": "916dbcbb3f70747c44a77c7bcd40155683ae19c65e1c03b4aa3499c5328201f1"
   }
  }
 },
 "nbformat": 4,
 "nbformat_minor": 2
}
