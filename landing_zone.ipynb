{
 "cells": [
  {
   "cell_type": "markdown",
   "metadata": {},
   "source": [
    "# Landing zone"
   ]
  },
  {
   "cell_type": "code",
   "execution_count": 1,
   "metadata": {},
   "outputs": [],
   "source": [
    "# Uncomment to upgrade packages\n",
    "# ! pip install requests --user --upgrade --quiet\n",
    "# ! pip install xlrd --user --upgrade --quiet\n",
    "# ! pip install duckdb --user --upgrade --quiet\n",
    "# ! pip install pandas --user --upgrade --quiet\n",
    "# ! pip install ipython-sql --user --upgrade --quiet\n",
    "# ! pip install SQLAlchemy --user --upgrade --quiet\n",
    "# ! pip install duckdb-engine --user --upgrade --quiet"
   ]
  },
  {
   "cell_type": "code",
   "execution_count": 2,
   "metadata": {},
   "outputs": [],
   "source": [
    "import os\n",
    "import requests\n",
    "\n",
    "\n",
    "import shutil\n",
    "from datetime import date\n",
    "\n",
    "import pandas as pd\n",
    "import duckdb \n"
   ]
  },
  {
   "cell_type": "code",
   "execution_count": 3,
   "metadata": {},
   "outputs": [],
   "source": [
    "DATA = {\n",
    "    'household2018.xls':'https://datos.madrid.es/egob/catalogo/300438-9-hogares-tama%C3%B1o.xls',\n",
    "    'household2019.xls':'https://datos.madrid.es/egob/catalogo/300438-10-hogares-tama%C3%B1o.xls',\n",
    "    'household2020.xls':'https://datos.madrid.es/egob/catalogo/300438-11-hogares-tama%C3%B1o.xls',\n",
    "    'nationalities2018.xls':'https://www.madrid.org/iestadis/fijas/estructu/demograficas/padron/descarga/pc18t18_m5.xls',\n",
    "    'nationalities2019.xls':'https://www.madrid.org/iestadis/fijas/estructu/demograficas/padron/descarga/pc19t19_m5.xls',\n",
    "    'nationalities2020.xls':'https://www.madrid.org/iestadis/fijas/estructu/demograficas/padron/descarga/pc20t20_m5.xls',  \n",
    "}"
   ]
  },
  {
   "cell_type": "markdown",
   "metadata": {},
   "source": [
    "## Temporal zone"
   ]
  },
  {
   "cell_type": "markdown",
   "metadata": {},
   "source": [
    "Temporal zone consist of original files downloaded from corresponding data source."
   ]
  },
  {
   "cell_type": "code",
   "execution_count": 4,
   "metadata": {},
   "outputs": [],
   "source": [
    "def temporal_zone():\n",
    "    \"\"\"\n",
    "    Creates the landing/temporal folder and downloads the data if does not exist.\n",
    "    \n",
    "    \"\"\"\n",
    "\n",
    "    if not os.path.exists('./landing/temporal'): \n",
    "        os.makedirs('./landing/temporal')\n",
    "\n",
    "    for file, url in DATA.items():\n",
    "        if not os.path.exists(f'./landing/temporal/{file}'):\n",
    "            data_request = requests.get(url)\n",
    "            open(f'./landing/temporal/{file}', 'wb').write(data_request.content)"
   ]
  },
  {
   "cell_type": "code",
   "execution_count": 5,
   "metadata": {},
   "outputs": [],
   "source": [
    "temporal_zone()"
   ]
  },
  {
   "cell_type": "markdown",
   "metadata": {},
   "source": [
    "## Persistent zone"
   ]
  },
  {
   "cell_type": "markdown",
   "metadata": {},
   "source": [
    "Persistant zone consists of files copied from temporal zone and marked with corresponding timestamp of inputation."
   ]
  },
  {
   "cell_type": "code",
   "execution_count": 6,
   "metadata": {},
   "outputs": [],
   "source": [
    "def tmp2persistent(file):\n",
    "    \"\"\"\n",
    "    Copies the temporary file to the persistent storage\n",
    "    Returns the path of the persistent file created\n",
    "    \"\"\"\n",
    "    today = date.today()\n",
    "    source = f'./landing/temporal/{file}'\n",
    "    destination = f'./landing/persistent/{today}_{file}'\n",
    "    shutil.copy(source,destination) \n",
    "    return destination\n"
   ]
  },
  {
   "cell_type": "code",
   "execution_count": 7,
   "metadata": {},
   "outputs": [],
   "source": [
    "\n",
    "def persistantZone():\n",
    "    if not os.path.exists('./landing/persistent'): \n",
    "        os.makedirs('./landing/persistent')\n",
    "    paths = []\n",
    "    for file in list(DATA.keys()): # household \n",
    "        path_pers = tmp2persistent(file)\n",
    "        print(path_pers) "
   ]
  },
  {
   "cell_type": "code",
   "execution_count": 8,
   "metadata": {},
   "outputs": [
    {
     "name": "stdout",
     "output_type": "stream",
     "text": [
      "./landing/persistent/2022-10-16_household2018.xls\n",
      "./landing/persistent/2022-10-16_household2019.xls\n",
      "./landing/persistent/2022-10-16_household2020.xls\n",
      "./landing/persistent/2022-10-16_nationalities2018.xls\n",
      "./landing/persistent/2022-10-16_nationalities2019.xls\n",
      "./landing/persistent/2022-10-16_nationalities2020.xls\n"
     ]
    }
   ],
   "source": [
    "persistantZone()"
   ]
  }
 ],
 "metadata": {
  "kernelspec": {
   "display_name": "Python 3.10.8 64-bit",
   "language": "python",
   "name": "python3"
  },
  "language_info": {
   "codemirror_mode": {
    "name": "ipython",
    "version": 3
   },
   "file_extension": ".py",
   "mimetype": "text/x-python",
   "name": "python",
   "nbconvert_exporter": "python",
   "pygments_lexer": "ipython3",
   "version": "3.10.8"
  },
  "orig_nbformat": 4,
  "vscode": {
   "interpreter": {
    "hash": "aee8b7b246df8f9039afb4144a1f6fd8d2ca17a180786b69acc140d282b71a49"
   }
  }
 },
 "nbformat": 4,
 "nbformat_minor": 2
}
