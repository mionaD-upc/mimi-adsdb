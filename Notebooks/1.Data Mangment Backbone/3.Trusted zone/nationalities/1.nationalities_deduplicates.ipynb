{
 "cells": [
  {
   "cell_type": "markdown",
   "metadata": {},
   "source": [
    "# Trusted zone - Nationalities"
   ]
  },
  {
   "cell_type": "code",
   "execution_count": 1,
   "metadata": {},
   "outputs": [],
   "source": [
    "import duckdb\n",
    "import pandas as pd\n",
    "\n",
    "import os, sys\n",
    "module_path = os.path.abspath(os.path.join('../../..'))\n",
    "if module_path not in sys.path:\n",
    "    sys.path.append(module_path)\n",
    "\n",
    "from utils import  DBtable_to_df, df_to_DBtable, select_version"
   ]
  },
  {
   "cell_type": "code",
   "execution_count": 2,
   "metadata": {},
   "outputs": [],
   "source": [
    "df = DBtable_to_df('../../nationalities.duckdb','nationalities')"
   ]
  },
  {
   "cell_type": "markdown",
   "metadata": {},
   "source": [
    "## Duplicates"
   ]
  },
  {
   "cell_type": "markdown",
   "metadata": {},
   "source": [
    "### By rows\n",
    "We have analyzed the dataset in search of repaeated rows with the function `duplicated` and as we can see we haven't found any duplicate row."
   ]
  },
  {
   "cell_type": "code",
   "execution_count": 3,
   "metadata": {},
   "outputs": [
    {
     "data": {
      "text/html": [
       "<div>\n",
       "<style scoped>\n",
       "    .dataframe tbody tr th:only-of-type {\n",
       "        vertical-align: middle;\n",
       "    }\n",
       "\n",
       "    .dataframe tbody tr th {\n",
       "        vertical-align: top;\n",
       "    }\n",
       "\n",
       "    .dataframe thead th {\n",
       "        text-align: right;\n",
       "    }\n",
       "</style>\n",
       "<table border=\"1\" class=\"dataframe\">\n",
       "  <thead>\n",
       "    <tr style=\"text-align: right;\">\n",
       "      <th></th>\n",
       "      <th>Madrid_section</th>\n",
       "      <th>Españoles</th>\n",
       "      <th>Alemania</th>\n",
       "      <th>Austria</th>\n",
       "      <th>Bélgica</th>\n",
       "      <th>Bulgaria</th>\n",
       "      <th>Chipre</th>\n",
       "      <th>Croacia</th>\n",
       "      <th>Dinamarca</th>\n",
       "      <th>Eslovaquia</th>\n",
       "      <th>...</th>\n",
       "      <th>Samoa</th>\n",
       "      <th>Timor_Oriental</th>\n",
       "      <th>Otros_Países_de_Oceanía</th>\n",
       "      <th>Year</th>\n",
       "      <th>Djibouti</th>\n",
       "      <th>República_Democrática_del_Congo</th>\n",
       "      <th>Vanuatu</th>\n",
       "      <th>Bielorrusia</th>\n",
       "      <th>Surinam</th>\n",
       "      <th>Islas_Marshall</th>\n",
       "    </tr>\n",
       "  </thead>\n",
       "  <tbody>\n",
       "  </tbody>\n",
       "</table>\n",
       "<p>0 rows × 195 columns</p>\n",
       "</div>"
      ],
      "text/plain": [
       "Empty DataFrame\n",
       "Columns: [Madrid_section, Españoles, Alemania, Austria, Bélgica, Bulgaria, Chipre, Croacia, Dinamarca, Eslovaquia, Eslovenia, Estonia, Finlandia, Francia, Grecia, Hungría, Irlanda, Italia, Letonia, Lituania, Luxemburgo, Malta, Países_Bajos, Polonia, Portugal, Reino_Unido, República_Checa, Rumanía, Suecia, Albania, Andorra, Armenia, Belarús, Bosnia_y_Herzegovina, Georgia, Islandia, Liechtenstein, Macedonia, Moldavia, Mónaco, Montenegro, Noruega, Rusia, San_Marino, Santa_Sede, Serbia, Suiza, Turquía, Ucrania, Otros_Países_de_Europa, Angola, Argelia, Benin, Botswana, Burkina_Faso, Burundi, Cabo_Verde, Camerún, Chad, Comoras, Congo, Costa_de_Marfil, Egipto, Eritrea, Etiopía, Gabón, Gambia, Ghana, Guinea, Guinea_Bissau, Guinea_Ecuatorial, Kenia, Lesotho, Liberia, Libia, Madagascar, Malawi, Mali, Marruecos, Mauricio, Mauritania, Mozambique, Namibia, Níger, Nigeria, República_Centroafricana, República_Democrática_del_Cong, Ruanda, Santo_Tomé_y_Príncipe, Senegal, Seychelles, Sierra_Leona, Somalia, Sudáfrica, Sudán, Sudán_del_Sur, Swazilandia, Tanzania, Togo, Túnez, ...]\n",
       "Index: []\n",
       "\n",
       "[0 rows x 195 columns]"
      ]
     },
     "execution_count": 3,
     "metadata": {},
     "output_type": "execute_result"
    }
   ],
   "source": [
    "duplicate = df[df.duplicated()]\n",
    "duplicate"
   ]
  },
  {
   "cell_type": "markdown",
   "metadata": {},
   "source": [
    "### By columns\n",
    "Moreover, we have analyzed the dataset in search of duplicate columns, which could have been created at the time of joining the versions with the function `difference`. All those were removed"
   ]
  },
  {
   "cell_type": "code",
   "execution_count": 4,
   "metadata": {},
   "outputs": [],
   "source": [
    "df2018 = DBtable_to_df('../../nationalities.duckdb','nationalities2018')\n",
    "df2019 = DBtable_to_df('../../nationalities.duckdb','nationalities2019')\n",
    "df2020 = DBtable_to_df('../../nationalities.duckdb','nationalities2020')"
   ]
  },
  {
   "cell_type": "markdown",
   "metadata": {},
   "source": [
    "Between the version of 2018 and 2019 as we can see there is a difference and there are duplicated columns."
   ]
  },
  {
   "cell_type": "code",
   "execution_count": 5,
   "metadata": {},
   "outputs": [
    {
     "data": {
      "text/plain": [
       "Index(['Bielorrusia', 'Djibouti', 'Islas_Marshall', 'Surinam', 'Vanuatu'], dtype='object')"
      ]
     },
     "execution_count": 5,
     "metadata": {},
     "output_type": "execute_result"
    }
   ],
   "source": [
    "(df2018.columns).difference(df2019.columns)"
   ]
  },
  {
   "cell_type": "markdown",
   "metadata": {},
   "source": [
    "Between the version of 2018 and 2020 as we can see there is a difference and there are duplicated columns."
   ]
  },
  {
   "cell_type": "code",
   "execution_count": 6,
   "metadata": {},
   "outputs": [
    {
     "data": {
      "text/plain": [
       "Index(['Bielorrusia', 'Islas_Marshall', 'Papúa_Nueva_Guinea',\n",
       "       'República_Democrática_del_Cong', 'San_Vicente_y_Las_Granadinas',\n",
       "       'Surinam'],\n",
       "      dtype='object')"
      ]
     },
     "execution_count": 6,
     "metadata": {},
     "output_type": "execute_result"
    }
   ],
   "source": [
    "(df2018.columns).difference(df2020.columns)"
   ]
  },
  {
   "cell_type": "markdown",
   "metadata": {},
   "source": [
    "Between the version of 2019 and 2020 as we can see there is a difference and there are duplicated columns."
   ]
  },
  {
   "cell_type": "code",
   "execution_count": 7,
   "metadata": {},
   "outputs": [
    {
     "data": {
      "text/plain": [
       "Index(['Papúa_Nueva_Guinea', 'República_Democrática_del_Cong', 'Samoa',\n",
       "       'San_Vicente_y_Las_Granadinas'],\n",
       "      dtype='object')"
      ]
     },
     "execution_count": 7,
     "metadata": {},
     "output_type": "execute_result"
    }
   ],
   "source": [
    "(df2019.columns).difference(df2020.columns)"
   ]
  },
  {
   "cell_type": "markdown",
   "metadata": {},
   "source": [
    "We mange it in this way"
   ]
  },
  {
   "cell_type": "code",
   "execution_count": 8,
   "metadata": {},
   "outputs": [],
   "source": [
    "def remove_nat_duplicates():\n",
    "\n",
    "    n2018 = select_version('../../nationalities.duckdb', 'nationalities', '2018')\n",
    "    n2018 = n2018[n2018.columns.difference(['Belarús','República_Democrática_del_Congo' ])] # remove empty columns Belarús and República_Democrática_del_Congo\n",
    "    n2018 = n2018.rename(columns = {'Bielorrusia':'Belarús', 'República_Democrática_del_Cong':'República_Democrática_del_Congo'})  #rename in right format\n",
    "\n",
    "    n2019 = select_version('../../nationalities.duckdb', 'nationalities', '2019')\n",
    "    n2019 = n2019[n2019.columns.difference(['Bielorrusia','República_Democrática_del_Cong' ])] # remove empty columns Bielorrusia and República_Democrática_del_Cong\n",
    "\n",
    "\n",
    "    n2020 = select_version('../../nationalities.duckdb', 'nationalities', '2020')\n",
    "    n2020 = n2020[n2020.columns.difference(['Bielorrusia','República_Democrática_del_Cong' ])] # remove empty columns  Bielorrusia and República_Democrática_del_Cong\n",
    "\n",
    "    cleanNatTable =  pd.concat([n2018, n2019, n2020],ignore_index = True)\n",
    "    df_to_DBtable('../../nationalities.duckdb',cleanNatTable, 'nationalitiesClean')\n",
    "\n",
    "remove_nat_duplicates()"
   ]
  }
 ],
 "metadata": {
  "kernelspec": {
   "display_name": "Python 3.8.10 64-bit",
   "language": "python",
   "name": "python3"
  },
  "language_info": {
   "codemirror_mode": {
    "name": "ipython",
    "version": 3
   },
   "file_extension": ".py",
   "mimetype": "text/x-python",
   "name": "python",
   "nbconvert_exporter": "python",
   "pygments_lexer": "ipython3",
   "version": "3.8.10"
  },
  "orig_nbformat": 4,
  "vscode": {
   "interpreter": {
    "hash": "916dbcbb3f70747c44a77c7bcd40155683ae19c65e1c03b4aa3499c5328201f1"
   }
  }
 },
 "nbformat": 4,
 "nbformat_minor": 2
}
