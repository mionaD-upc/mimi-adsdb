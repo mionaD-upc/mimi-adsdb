{
 "cells": [
  {
   "cell_type": "markdown",
   "metadata": {},
   "source": [
    "# Landing zone"
   ]
  },
  {
   "cell_type": "code",
   "execution_count": 1,
   "metadata": {},
   "outputs": [],
   "source": [
    "import os\n",
    "import requests\n",
    "import shutil\n",
    "from datetime import date"
   ]
  },
  {
   "cell_type": "code",
   "execution_count": 2,
   "metadata": {},
   "outputs": [],
   "source": [
    "DATA = {\n",
    "    'household2018.xls':'https://datos.madrid.es/egob/catalogo/300438-9-hogares-tama%C3%B1o.xls',\n",
    "    'household2019.xls':'https://datos.madrid.es/egob/catalogo/300438-10-hogares-tama%C3%B1o.xls',\n",
    "    'household2020.xls':'https://datos.madrid.es/egob/catalogo/300438-11-hogares-tama%C3%B1o.xls',\n",
    "    'nationalities2018.xls':'https://www.madrid.org/iestadis/fijas/estructu/demograficas/padron/descarga/pc18t18z4_secci.xls',\n",
    "    'nationalities2019.xls':'https://www.madrid.org/iestadis/fijas/estructu/demograficas/padron/descarga/pc19t19z4_secci.xls',\n",
    "    'nationalities2020.xls':'https://www.madrid.org/iestadis/fijas/estructu/demograficas/padron/descarga/pc20t20z4_secci.xls',  \n",
    "}"
   ]
  },
  {
   "cell_type": "markdown",
   "metadata": {},
   "source": [
    "## Temporal zone"
   ]
  },
  {
   "cell_type": "code",
   "execution_count": 3,
   "metadata": {},
   "outputs": [],
   "source": [
    "def temporal_zone():\n",
    "    \"\"\"\n",
    "    Creates the `temporal` folder and downloads the data if does not exist.\n",
    "    \"\"\"\n",
    "    if not os.path.exists('./temporal'): \n",
    "        os.makedirs('./temporal')\n",
    "\n",
    "    for file, url in DATA.items():\n",
    "        if not os.path.exists(f'./temporal/{file}'):\n",
    "            data_request = requests.get(url)\n",
    "            open(f'./temporal/{file}', 'wb').write(data_request.content)\n",
    "            print(f'  - temporal/{file} downloaded')"
   ]
  },
  {
   "cell_type": "code",
   "execution_count": 4,
   "metadata": {},
   "outputs": [
    {
     "name": "stdout",
     "output_type": "stream",
     "text": [
      "  - temporal/household2018.xls downloaded\n",
      "  - temporal/household2019.xls downloaded\n",
      "  - temporal/household2020.xls downloaded\n",
      "  - temporal/nationalities2018.xls downloaded\n",
      "  - temporal/nationalities2019.xls downloaded\n",
      "  - temporal/nationalities2020.xls downloaded\n"
     ]
    }
   ],
   "source": [
    "temporal_zone()"
   ]
  },
  {
   "cell_type": "markdown",
   "metadata": {},
   "source": [
    "## Persistent zone"
   ]
  },
  {
   "cell_type": "code",
   "execution_count": 5,
   "metadata": {},
   "outputs": [],
   "source": [
    "def persistent_zone():\n",
    "    \"\"\"\n",
    "    Creates the `persistent` folder and copies the temporary file to the persistent storage\n",
    "    adding the current date in the file name\n",
    "    \"\"\"\n",
    "    if not os.path.exists('./persistent'): \n",
    "        os.makedirs('./persistent')\n",
    "    \n",
    "    today = date.today()\n",
    "    for file in list(DATA.keys()): \n",
    "        source = f'./temporal/{file}'\n",
    "        destination = f'./persistent/{today}_{file}'\n",
    "        shutil.copy(source,destination)\n",
    "        print(f'  - {destination} copied') "
   ]
  },
  {
   "cell_type": "code",
   "execution_count": 6,
   "metadata": {},
   "outputs": [
    {
     "name": "stdout",
     "output_type": "stream",
     "text": [
      "  - ./persistent/2022-12-30_household2018.xls copied\n",
      "  - ./persistent/2022-12-30_household2019.xls copied\n",
      "  - ./persistent/2022-12-30_household2020.xls copied\n",
      "  - ./persistent/2022-12-30_nationalities2018.xls copied\n",
      "  - ./persistent/2022-12-30_nationalities2019.xls copied\n",
      "  - ./persistent/2022-12-30_nationalities2020.xls copied\n"
     ]
    }
   ],
   "source": [
    "persistent_zone()"
   ]
  }
 ],
 "metadata": {
  "kernelspec": {
   "display_name": "Python 3.8.10 64-bit",
   "language": "python",
   "name": "python3"
  },
  "language_info": {
   "codemirror_mode": {
    "name": "ipython",
    "version": 3
   },
   "file_extension": ".py",
   "mimetype": "text/x-python",
   "name": "python",
   "nbconvert_exporter": "python",
   "pygments_lexer": "ipython3",
   "version": "3.8.10 (default, Jun 22 2022, 20:18:18) \n[GCC 9.4.0]"
  },
  "orig_nbformat": 4,
  "vscode": {
   "interpreter": {
    "hash": "916dbcbb3f70747c44a77c7bcd40155683ae19c65e1c03b4aa3499c5328201f1"
   }
  }
 },
 "nbformat": 4,
 "nbformat_minor": 2
}
