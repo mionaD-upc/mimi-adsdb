{
 "cells": [
  {
   "cell_type": "markdown",
   "metadata": {},
   "source": [
    "# Formatted zone"
   ]
  },
  {
   "cell_type": "code",
   "execution_count": 1,
   "metadata": {},
   "outputs": [
    {
     "name": "stdout",
     "output_type": "stream",
     "text": [
      "/Users/miona.dimic/Desktop/MDS/ADSDB/project/mimi-adsdb/Notebooks/2.Formatted zone\n"
     ]
    }
   ],
   "source": [
    "import os\n",
    "from traceback import print_tb\n",
    "import pandas as pd\n",
    "import duckdb\n",
    "\n",
    "import os, sys \n",
    "from pathlib import Path\n",
    "tmp = Path.cwd()\n",
    "print(tmp)\n",
    "os.chdir(Path.cwd().parent)\n",
    "\n",
    "\n",
    "if Path.cwd() not in sys.path:\n",
    " sys.path.append(Path.cwd())\n",
    "\n",
    "import utils\n",
    "\n",
    "\n",
    "os.chdir(tmp)\n",
    "#print(tmp)\n",
    "\n"
   ]
  },
  {
   "cell_type": "markdown",
   "metadata": {},
   "source": [
    "### Delete previosly created duckdb files"
   ]
  },
  {
   "cell_type": "code",
   "execution_count": 2,
   "metadata": {},
   "outputs": [
    {
     "name": "stdout",
     "output_type": "stream",
     "text": [
      "/Users/miona.dimic/Desktop/MDS/ADSDB/project/mimi-adsdb/Notebooks\n"
     ]
    }
   ],
   "source": [
    "utils.clear_datebase(tmp.parent.__str__())"
   ]
  },
  {
   "cell_type": "markdown",
   "metadata": {},
   "source": [
    "## Repositories"
   ]
  },
  {
   "cell_type": "markdown",
   "metadata": {},
   "source": [
    "### Household repository"
   ]
  },
  {
   "cell_type": "code",
   "execution_count": 3,
   "metadata": {},
   "outputs": [],
   "source": [
    "household_columns = ['section','delete','habitantes','single_women_aged_16_to_64','single_men_aged_16_to_64','single_women_aged_65_or_over','single_men_aged_65_or_over',\n",
    "    'adult_women_with_one_or_more_minors','adult_men_with_one_or_more_minors','two_adults_from_16_to_64_and_without_minors',\n",
    "    'two_adults_one_at_least_65_and_without_minors','two_adults_and_one_minor','two_adults_and_two_minors','two_adults_and_three_or_more_minors',\n",
    "    'two_adults_over_35_and_one_adult_from_16_to_34','two_adults_over_35_and_one_adult_from_16_to_34_and_one_minor',\n",
    "    'two_adults_over_35_and_one_adult_from_16_to_34_and_two_minors','three_adults_and_0_or_more_minors','two_adults_over_35_and_two_adults_from_16_to_34',\n",
    "    'two_adults_over_35_and_two_adults_from_16_to_34_and_one_minor','two_adults_over_35_and_two_adults_from_16_to_34_and_two_or_more_minors',\n",
    "    'four_adults_and_0_or_more_minors','five_adults_and_0_or_more_minors','fifteen_or_more_inhabitants','only_minors']\n",
    "\n",
    "def read_household(file):\n",
    "    \"\"\"\n",
    "    Prepares the Household excel file, \n",
    "    Returns the data in DataFrame format\n",
    "    \"\"\"\n",
    "    path = f'../1.Landing zone/persistent/{file}'\n",
    "    df = pd.read_excel(path,sheet_name='Composicion del hogar', header=[5], names=household_columns)\n",
    "    df['section'].fillna(df['delete'],inplace=True)\n",
    "    df.drop(labels='delete', axis=1, inplace=True)\n",
    "    df.dropna(inplace = True)\n",
    "    return df"
   ]
  },
  {
   "cell_type": "markdown",
   "metadata": {},
   "source": [
    "### Nationalities repsitory"
   ]
  },
  {
   "cell_type": "code",
   "execution_count": 4,
   "metadata": {},
   "outputs": [],
   "source": [
    "def read_nationalities(file):\n",
    "    \"\"\"\n",
    "    Reads the Nationalities Excel\n",
    "    Returns the data in DataFrame format\n",
    "    \"\"\"\n",
    "    path = f'../1.Landing zone/persistent/{file}'\n",
    "    df = pd.read_excel(path, sheet_name='Total', header=[7])\n",
    "    df.rename(columns = {'Unnamed: 0':'Madrid_section','Unnamed: 2':'Habitantes','Unnamed: 3':'Españoles','Unnamed: 4':'Extranjeros'}, inplace = True)\n",
    "    df.drop('Unnamed: 1', axis=1, inplace=True)\n",
    "    df.drop(df.filter(regex='Unname'),axis=1, inplace=True)\n",
    "    df.drop(df.filter(like='Total'),axis=1, inplace=True)\n",
    "    df.columns = df.columns.str.strip()\n",
    "    df.columns = df.columns.str.replace(' ', '_')\n",
    "    df.dropna(inplace = True)\n",
    "    return df"
   ]
  },
  {
   "cell_type": "markdown",
   "metadata": {},
   "source": [
    "## Main"
   ]
  },
  {
   "cell_type": "code",
   "execution_count": 5,
   "metadata": {},
   "outputs": [],
   "source": [
    "def formatted_zone():\n",
    "    \"\"\"\n",
    "    Stores the excel tables in a relational data base.\n",
    "    \"\"\"\n",
    "    for file in os.listdir('../1.Landing zone/persistent'):  \n",
    "        table = file.split('_')[1].split('.')[0]\n",
    "        repo = table[:-4]\n",
    "        df = read_household(file) if repo == 'household' else read_nationalities(file)\n",
    "        utils.df_to_DBtable(f'../{repo}.duckdb',df,table)\n"
   ]
  },
  {
   "cell_type": "code",
   "execution_count": 6,
   "metadata": {},
   "outputs": [],
   "source": [
    "formatted_zone()"
   ]
  },
  {
   "cell_type": "markdown",
   "metadata": {},
   "source": [
    "### Test"
   ]
  },
  {
   "cell_type": "code",
   "execution_count": 7,
   "metadata": {},
   "outputs": [
    {
     "data": {
      "text/plain": [
       "0    household2019\n",
       "1    household2020\n",
       "2    household2018\n",
       "Name: table_name, dtype: object"
      ]
     },
     "execution_count": 7,
     "metadata": {},
     "output_type": "execute_result"
    }
   ],
   "source": [
    "# check if all tables in household.duckdb are created\n",
    "utils.get_tables('../household.duckdb')"
   ]
  },
  {
   "cell_type": "code",
   "execution_count": 8,
   "metadata": {},
   "outputs": [
    {
     "data": {
      "text/plain": [
       "0    nationalities2019\n",
       "1    nationalities2018\n",
       "2    nationalities2020\n",
       "Name: table_name, dtype: object"
      ]
     },
     "execution_count": 8,
     "metadata": {},
     "output_type": "execute_result"
    }
   ],
   "source": [
    "# check if all tables in nationalities.db are created\n",
    "utils.get_tables('../nationalities.duckdb')"
   ]
  }
 ],
 "metadata": {
  "kernelspec": {
   "display_name": "Python 3.10.8 64-bit",
   "language": "python",
   "name": "python3"
  },
  "language_info": {
   "codemirror_mode": {
    "name": "ipython",
    "version": 3
   },
   "file_extension": ".py",
   "mimetype": "text/x-python",
   "name": "python",
   "nbconvert_exporter": "python",
   "pygments_lexer": "ipython3",
   "version": "3.10.8"
  },
  "orig_nbformat": 4,
  "vscode": {
   "interpreter": {
    "hash": "aee8b7b246df8f9039afb4144a1f6fd8d2ca17a180786b69acc140d282b71a49"
   }
  }
 },
 "nbformat": 4,
 "nbformat_minor": 2
}
