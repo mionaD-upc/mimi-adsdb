{
 "cells": [
  {
   "cell_type": "markdown",
   "metadata": {},
   "source": [
    "# Formatted zone"
   ]
  },
  {
   "cell_type": "code",
   "execution_count": 1,
   "metadata": {},
   "outputs": [],
   "source": [
    "import os, sys\n",
    "import pandas as pd\n",
    "import duckdb \n",
    "\n",
    "module_path = os.path.abspath(os.path.join('..'))\n",
    "if module_path not in sys.path:\n",
    "    sys.path.append(module_path)\n",
    "from ipynb.fs.full.utils import df_to_DBtable, get_tables, DBtable_to_df"
   ]
  },
  {
   "cell_type": "markdown",
   "metadata": {},
   "source": [
    "## Repositories"
   ]
  },
  {
   "cell_type": "markdown",
   "metadata": {},
   "source": [
    "### Household repository"
   ]
  },
  {
   "cell_type": "code",
   "execution_count": 2,
   "metadata": {},
   "outputs": [],
   "source": [
    "household_columns = ['section','delete','population','single_women_aged_16_to_64','single_men_aged_16_to_64','single_women_aged_65_or_over','single_men_aged_65_or_over',\n",
    "    'adult_women_with_one_or_more_minors','adult_men_with_one_or_more_minors','two_adults_from_16_to_64_and_without_minors',\n",
    "    'two_adults_one_at_least_65_and_without_minors','two_adults_and_one_minor','two_adults_and_two_minors','two_adults_and_three_or_more_minors',\n",
    "    'two_adults_over_35_and_one_adult_from_16_to_34','two_adults_over_35_and_one_adult_from_16_to_34_and_one_minor',\n",
    "    'two_adults_over_35_and_one_adult_from_16_to_34_and_two_minors','three_adults_and_0_or_more_minors','two_adults_over_35_and_two_adults_from_16_to_34',\n",
    "    'two_adults_over_35_and_two_adults_from_16_to_34_and_one_minor','two_adults_over_35_and_two_adults_from_16_to_34_and_two_or_more_minors',\n",
    "    'four_adults_and_0_or_more_minors','five_adults_and_0_or_more_minors','fifteen_or_more_inhabitants','only_minors']\n",
    "\n",
    "def read_household(file):\n",
    "    \"\"\"\n",
    "    Prepares the Household excel file, \n",
    "    Returns the data in DataFrame format\n",
    "    \"\"\"\n",
    "    path = f'../1.Landing zone/persistent/{file}'\n",
    "    df = pd.read_excel(path,sheet_name='Composicion del hogar', header=[5], names=household_columns)\n",
    "\n",
    "    # Formatting the excel format to dataframe\n",
    "    df['section'].fillna(df['delete'],inplace=True)\n",
    "    df.drop(labels='delete', axis=1, inplace=True)\n",
    "    df.dropna(inplace = True)\n",
    "\n",
    "    # Removes the total rows \n",
    "    newDF = df[pd.to_numeric(df['section'], errors='coerce').notnull()]\n",
    "    assert df.shape[0] - newDF.shape[0] == 22\n",
    "\n",
    "    return newDF"
   ]
  },
  {
   "cell_type": "markdown",
   "metadata": {},
   "source": [
    "### Nationalities repsitory"
   ]
  },
  {
   "cell_type": "code",
   "execution_count": 3,
   "metadata": {},
   "outputs": [],
   "source": [
    "\n",
    "def read_nationalities(file):\n",
    "    \"\"\"\n",
    "    Reads the Nationalities Excel\n",
    "    Returns the data in DataFrame format\n",
    "    \"\"\"\n",
    "    path = f'../1.Landing zone/persistent/{file}'\n",
    "    df = pd.read_excel(path, sheet_name='Total', header=[7])\n",
    "\n",
    "    # Formatting excel format to dataframe\n",
    "    df.rename(columns = {'Unnamed: 0':'Madrid_section','Unnamed: 2':'Habitantes','Unnamed: 3':'Españoles','Unnamed: 4':'Extranjeros'}, inplace = True)\n",
    "    df.drop('Unnamed: 1', axis=1, inplace=True)\n",
    "    df.drop(df.filter(regex='Unname'),axis=1, inplace=True)\n",
    "    df.dropna(inplace = True)\n",
    "\n",
    "    # Removes the total columns\n",
    "    df.drop(df.filter(like='Total'),axis=1, inplace=True)\n",
    "\n",
    "    # Formatting the column name\n",
    "    df.columns = df.columns.str.strip()\n",
    "    df.columns = df.columns.str.replace(' ', '_')\n",
    "\n",
    "    # Removes the total rows \n",
    "    newDF = df[df['Madrid_section'].apply(lambda x: len(x.strip()) == 9)]\n",
    "\n",
    "    return newDF"
   ]
  },
  {
   "cell_type": "markdown",
   "metadata": {},
   "source": [
    "## Main"
   ]
  },
  {
   "cell_type": "code",
   "execution_count": 4,
   "metadata": {},
   "outputs": [],
   "source": [
    "def formatted_zone():\n",
    "    \"\"\"\n",
    "    Stores the excel tables in a relational data base.\n",
    "    \"\"\"\n",
    "    for file in os.listdir('../1.Landing zone/persistent/'):  \n",
    "        table = file.split('_')[1].split('.')[0]\n",
    "        repo = ''.join(filter(str.isalpha,table))\n",
    "        df = read_household(file) if repo == 'household' else read_nationalities(file)\n",
    "        df_to_DBtable(f'../{repo}.duckdb',df,table)\n"
   ]
  },
  {
   "cell_type": "code",
   "execution_count": 5,
   "metadata": {},
   "outputs": [],
   "source": [
    "formatted_zone()"
   ]
  },
  {
   "cell_type": "markdown",
   "metadata": {},
   "source": [
    "### Test"
   ]
  },
  {
   "cell_type": "code",
   "execution_count": 6,
   "metadata": {},
   "outputs": [
    {
     "data": {
      "text/plain": [
       "0    household2018\n",
       "1    household2020\n",
       "2    household2019\n",
       "Name: table_name, dtype: object"
      ]
     },
     "execution_count": 6,
     "metadata": {},
     "output_type": "execute_result"
    }
   ],
   "source": [
    "# check if all tables in household.duckdb are created\n",
    "get_tables('../household.duckdb')"
   ]
  },
  {
   "cell_type": "code",
   "execution_count": 7,
   "metadata": {},
   "outputs": [
    {
     "data": {
      "text/plain": [
       "0    nationalities2018\n",
       "1    nationalities2020\n",
       "2    nationalities2019\n",
       "Name: table_name, dtype: object"
      ]
     },
     "execution_count": 7,
     "metadata": {},
     "output_type": "execute_result"
    }
   ],
   "source": [
    "# check if all tables in nationalities.db are created\n",
    "get_tables('../nationalities.duckdb')"
   ]
  }
 ],
 "metadata": {
  "kernelspec": {
   "display_name": "Python 3.8.10 64-bit",
   "language": "python",
   "name": "python3"
  },
  "language_info": {
   "codemirror_mode": {
    "name": "ipython",
    "version": 3
   },
   "file_extension": ".py",
   "mimetype": "text/x-python",
   "name": "python",
   "nbconvert_exporter": "python",
   "pygments_lexer": "ipython3",
   "version": "3.8.10"
  },
  "orig_nbformat": 4,
  "vscode": {
   "interpreter": {
    "hash": "916dbcbb3f70747c44a77c7bcd40155683ae19c65e1c03b4aa3499c5328201f1"
   }
  }
 },
 "nbformat": 4,
 "nbformat_minor": 2
}
