{
 "cells": [
  {
   "cell_type": "code",
   "execution_count": 1,
   "metadata": {},
   "outputs": [],
   "source": [
    "# Uncomment to upgrade packages\n",
    "# ! pip install requests --user --upgrade --quiet\n",
    "# ! pip install duckdb --user --upgrade --quiet\n",
    "# ! pip install pandas --user --upgrade --quiet\n",
    "# ! pip install pyarrow --user --upgrade --quiet\n",
    "# ! pip install ipynb --user --upgrade --quiet"
   ]
  },
  {
   "cell_type": "code",
   "execution_count": 2,
   "metadata": {},
   "outputs": [],
   "source": [
    "import os\n",
    "import duckdb"
   ]
  },
  {
   "cell_type": "markdown",
   "metadata": {},
   "source": [
    "Delete repositories"
   ]
  },
  {
   "cell_type": "code",
   "execution_count": 5,
   "metadata": {},
   "outputs": [],
   "source": [
    "def clear_datebase():\n",
    "    for item in os.listdir('.'):\n",
    "        if \".duckdb\" in item:\n",
    "            os.remove(item)\n",
    "clear_datebase()"
   ]
  },
  {
   "cell_type": "markdown",
   "metadata": {},
   "source": [
    "Utils functions"
   ]
  },
  {
   "cell_type": "code",
   "execution_count": 4,
   "metadata": {},
   "outputs": [],
   "source": [
    "def df_to_DBtable(DB,df,table):\n",
    "    \"\"\"\n",
    "    Creates a persistent table in DuckDB from the DataFrame content.\n",
    "    \"\"\"\n",
    "    con = duckdb.connect(DB)\n",
    "    con.register(table, df)\n",
    "    con.execute(f'CREATE TABLE {table} AS SELECT * FROM {table}')\n",
    "    con.close()\n",
    "\n",
    "def DBtable_to_df(DB,table): # repated\n",
    "    \"\"\"\n",
    "    Converts the DB `table` in a data frame format \n",
    "    \"\"\"\n",
    "    con = duckdb.connect(DB)\n",
    "    df = con.execute(f'SELECT * FROM {table}').df()\n",
    "    con.close()\n",
    "    return df\n",
    "\n",
    "def get_tables(DB): # repeated\n",
    "    \"\"\"\n",
    "    Gets all the tables from the `DB`\n",
    "    \"\"\"\n",
    "    con = duckdb.connect(DB)\n",
    "    tables = con.execute(f'SELECT table_name FROM information_schema.tables').df()['table_name']\n",
    "    con.close()\n",
    "    return tables"
   ]
  }
 ],
 "metadata": {
  "kernelspec": {
   "display_name": "Python 3.8.10 64-bit",
   "language": "python",
   "name": "python3"
  },
  "language_info": {
   "codemirror_mode": {
    "name": "ipython",
    "version": 3
   },
   "file_extension": ".py",
   "mimetype": "text/x-python",
   "name": "python",
   "nbconvert_exporter": "python",
   "pygments_lexer": "ipython3",
   "version": "3.8.10"
  },
  "orig_nbformat": 4,
  "vscode": {
   "interpreter": {
    "hash": "916dbcbb3f70747c44a77c7bcd40155683ae19c65e1c03b4aa3499c5328201f1"
   }
  }
 },
 "nbformat": 4,
 "nbformat_minor": 2
}
