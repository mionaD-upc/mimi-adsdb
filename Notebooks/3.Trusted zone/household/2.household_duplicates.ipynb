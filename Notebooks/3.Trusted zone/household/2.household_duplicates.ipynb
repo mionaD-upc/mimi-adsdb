{
 "cells": [
  {
   "cell_type": "markdown",
   "metadata": {},
   "source": [
    "# Trusted zone - Household"
   ]
  },
  {
   "cell_type": "code",
   "execution_count": 1,
   "metadata": {},
   "outputs": [],
   "source": [
    "import os, sys\n",
    "module_path = os.path.abspath(os.path.join('../..'))\n",
    "if module_path not in sys.path:\n",
    "    sys.path.append(module_path)\n",
    "\n",
    "from utils import  DBtable_to_df, select_version"
   ]
  },
  {
   "cell_type": "code",
   "execution_count": 2,
   "metadata": {},
   "outputs": [],
   "source": [
    "df = DBtable_to_df('../../household.duckdb','household')"
   ]
  },
  {
   "cell_type": "markdown",
   "metadata": {},
   "source": [
    "## Duplicates"
   ]
  },
  {
   "cell_type": "markdown",
   "metadata": {},
   "source": [
    "### By rows\n",
    "We have analyzed the dataset in search of repaeated rows with the function `duplicated` and as we can see we haven't found any duplicate row."
   ]
  },
  {
   "cell_type": "code",
   "execution_count": 3,
   "metadata": {},
   "outputs": [
    {
     "data": {
      "text/html": [
       "<div>\n",
       "<style scoped>\n",
       "    .dataframe tbody tr th:only-of-type {\n",
       "        vertical-align: middle;\n",
       "    }\n",
       "\n",
       "    .dataframe tbody tr th {\n",
       "        vertical-align: top;\n",
       "    }\n",
       "\n",
       "    .dataframe thead th {\n",
       "        text-align: right;\n",
       "    }\n",
       "</style>\n",
       "<table border=\"1\" class=\"dataframe\">\n",
       "  <thead>\n",
       "    <tr style=\"text-align: right;\">\n",
       "      <th></th>\n",
       "      <th>section</th>\n",
       "      <th>population</th>\n",
       "      <th>single_women_aged_16_to_64</th>\n",
       "      <th>single_men_aged_16_to_64</th>\n",
       "      <th>single_women_aged_65_or_over</th>\n",
       "      <th>single_men_aged_65_or_over</th>\n",
       "      <th>adult_women_with_one_or_more_minors</th>\n",
       "      <th>adult_men_with_one_or_more_minors</th>\n",
       "      <th>two_adults_from_16_to_64_and_without_minors</th>\n",
       "      <th>two_adults_one_at_least_65_and_without_minors</th>\n",
       "      <th>...</th>\n",
       "      <th>two_adults_over_35_and_one_adult_from_16_to_34_and_two_minors</th>\n",
       "      <th>three_adults_and_0_or_more_minors</th>\n",
       "      <th>two_adults_over_35_and_two_adults_from_16_to_34</th>\n",
       "      <th>two_adults_over_35_and_two_adults_from_16_to_34_and_one_minor</th>\n",
       "      <th>two_adults_over_35_and_two_adults_from_16_to_34_and_two_or_more_minors</th>\n",
       "      <th>four_adults_and_0_or_more_minors</th>\n",
       "      <th>five_adults_and_0_or_more_minors</th>\n",
       "      <th>fifteen_or_more_inhabitants</th>\n",
       "      <th>only_minors</th>\n",
       "      <th>Year</th>\n",
       "    </tr>\n",
       "  </thead>\n",
       "  <tbody>\n",
       "  </tbody>\n",
       "</table>\n",
       "<p>0 rows × 25 columns</p>\n",
       "</div>"
      ],
      "text/plain": [
       "Empty DataFrame\n",
       "Columns: [section, population, single_women_aged_16_to_64, single_men_aged_16_to_64, single_women_aged_65_or_over, single_men_aged_65_or_over, adult_women_with_one_or_more_minors, adult_men_with_one_or_more_minors, two_adults_from_16_to_64_and_without_minors, two_adults_one_at_least_65_and_without_minors, two_adults_and_one_minor, two_adults_and_two_minors, two_adults_and_three_or_more_minors, two_adults_over_35_and_one_adult_from_16_to_34, two_adults_over_35_and_one_adult_from_16_to_34_and_one_minor, two_adults_over_35_and_one_adult_from_16_to_34_and_two_minors, three_adults_and_0_or_more_minors, two_adults_over_35_and_two_adults_from_16_to_34, two_adults_over_35_and_two_adults_from_16_to_34_and_one_minor, two_adults_over_35_and_two_adults_from_16_to_34_and_two_or_more_minors, four_adults_and_0_or_more_minors, five_adults_and_0_or_more_minors, fifteen_or_more_inhabitants, only_minors, Year]\n",
       "Index: []\n",
       "\n",
       "[0 rows x 25 columns]"
      ]
     },
     "execution_count": 3,
     "metadata": {},
     "output_type": "execute_result"
    }
   ],
   "source": [
    "duplicate = df[df.duplicated()]\n",
    "duplicate"
   ]
  },
  {
   "cell_type": "markdown",
   "metadata": {},
   "source": [
    "### By columns\n",
    "Moreover, we have analyzed the dataset in search of duplicate columns, which could have been created at the time of joining the versions with the function `difference`. But we haven't found any duplicate column among versions because of language, accents, ... they all meet with the same name."
   ]
  },
  {
   "cell_type": "code",
   "execution_count": 4,
   "metadata": {},
   "outputs": [],
   "source": [
    "df2018 = select_version('../../household.duckdb','household', '2018')\n",
    "df2019 = select_version('../../household.duckdb','household', '2019')\n",
    "df2020 = select_version('../../household.duckdb','household', '2020')"
   ]
  },
  {
   "cell_type": "markdown",
   "metadata": {},
   "source": [
    "Between the version of 2018 and 2019 as we can see there is no difference, so no treatment has been done."
   ]
  },
  {
   "cell_type": "code",
   "execution_count": 5,
   "metadata": {},
   "outputs": [
    {
     "data": {
      "text/plain": [
       "Index([], dtype='object')"
      ]
     },
     "execution_count": 5,
     "metadata": {},
     "output_type": "execute_result"
    }
   ],
   "source": [
    "(df2018.columns).difference(df2019.columns)"
   ]
  },
  {
   "cell_type": "markdown",
   "metadata": {},
   "source": [
    "Between the version of 2018 and 2020 as we can see there is no difference, so no treatment has been done."
   ]
  },
  {
   "cell_type": "code",
   "execution_count": 6,
   "metadata": {},
   "outputs": [
    {
     "data": {
      "text/plain": [
       "Index([], dtype='object')"
      ]
     },
     "execution_count": 6,
     "metadata": {},
     "output_type": "execute_result"
    }
   ],
   "source": [
    "(df2018.columns).difference(df2020.columns)"
   ]
  },
  {
   "cell_type": "markdown",
   "metadata": {},
   "source": [
    "Between the version of 2019 and 2020 as we can see there is no difference, so no treatment has been done."
   ]
  },
  {
   "cell_type": "code",
   "execution_count": 7,
   "metadata": {},
   "outputs": [
    {
     "data": {
      "text/plain": [
       "Index([], dtype='object')"
      ]
     },
     "execution_count": 7,
     "metadata": {},
     "output_type": "execute_result"
    }
   ],
   "source": [
    "(df2019.columns).difference(df2020.columns)"
   ]
  }
 ],
 "metadata": {
  "kernelspec": {
   "display_name": "Python 3.8.10 64-bit",
   "language": "python",
   "name": "python3"
  },
  "language_info": {
   "codemirror_mode": {
    "name": "ipython",
    "version": 3
   },
   "file_extension": ".py",
   "mimetype": "text/x-python",
   "name": "python",
   "nbconvert_exporter": "python",
   "pygments_lexer": "ipython3",
   "version": "3.10.6"
  },
  "orig_nbformat": 4,
  "vscode": {
   "interpreter": {
    "hash": "916dbcbb3f70747c44a77c7bcd40155683ae19c65e1c03b4aa3499c5328201f1"
   }
  }
 },
 "nbformat": 4,
 "nbformat_minor": 2
}
