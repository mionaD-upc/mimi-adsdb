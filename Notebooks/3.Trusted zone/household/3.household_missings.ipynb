{
 "cells": [
  {
   "cell_type": "markdown",
   "metadata": {},
   "source": [
    "# Trusted zone - Household"
   ]
  },
  {
   "cell_type": "code",
   "execution_count": 1,
   "metadata": {},
   "outputs": [],
   "source": [
    "import numpy as np\n",
    "import matplotlib.pyplot as plt\n",
    "\n",
    "import os, sys\n",
    "module_path = os.path.abspath(os.path.join('../..'))\n",
    "if module_path not in sys.path:\n",
    "    sys.path.append(module_path)\n",
    "\n",
    "from utils import  DBtable_to_df"
   ]
  },
  {
   "cell_type": "code",
   "execution_count": 3,
   "metadata": {},
   "outputs": [],
   "source": [
    "df = DBtable_to_df('../../../household.duckdb','household')"
   ]
  },
  {
   "cell_type": "markdown",
   "metadata": {},
   "source": [
    "## Missing values"
   ]
  },
  {
   "cell_type": "markdown",
   "metadata": {},
   "source": [
    "we check if there are null values with `isnull().sum()`, and as we can see none of the columns have null values, so it could be the case that these missing values were hidden."
   ]
  },
  {
   "cell_type": "code",
   "execution_count": 4,
   "metadata": {},
   "outputs": [
    {
     "data": {
      "text/plain": [
       "section                                                                   0\n",
       "population                                                                0\n",
       "single_women_aged_16_to_64                                                0\n",
       "single_men_aged_16_to_64                                                  0\n",
       "single_women_aged_65_or_over                                              0\n",
       "single_men_aged_65_or_over                                                0\n",
       "adult_women_with_one_or_more_minors                                       0\n",
       "adult_men_with_one_or_more_minors                                         0\n",
       "two_adults_from_16_to_64_and_without_minors                               0\n",
       "two_adults_one_at_least_65_and_without_minors                             0\n",
       "two_adults_and_one_minor                                                  0\n",
       "two_adults_and_two_minors                                                 0\n",
       "two_adults_and_three_or_more_minors                                       0\n",
       "two_adults_over_35_and_one_adult_from_16_to_34                            0\n",
       "two_adults_over_35_and_one_adult_from_16_to_34_and_one_minor              0\n",
       "two_adults_over_35_and_one_adult_from_16_to_34_and_two_minors             0\n",
       "three_adults_and_0_or_more_minors                                         0\n",
       "two_adults_over_35_and_two_adults_from_16_to_34                           0\n",
       "two_adults_over_35_and_two_adults_from_16_to_34_and_one_minor             0\n",
       "two_adults_over_35_and_two_adults_from_16_to_34_and_two_or_more_minors    0\n",
       "four_adults_and_0_or_more_minors                                          0\n",
       "five_adults_and_0_or_more_minors                                          0\n",
       "fifteen_or_more_inhabitants                                               0\n",
       "only_minors                                                               0\n",
       "Year                                                                      0\n",
       "dtype: int64"
      ]
     },
     "execution_count": 4,
     "metadata": {},
     "output_type": "execute_result"
    }
   ],
   "source": [
    "df.isnull().sum()  # there are no missing values is empty"
   ]
  },
  {
   "cell_type": "markdown",
   "metadata": {},
   "source": [
    "In the profiling we already saw the maximum and minimum values, and in the maximum values we did not see any inconsistency (we did not find any 9999999999), but in the minimum values we saw that there were a few zeros, so the null values could be hidden here."
   ]
  },
  {
   "cell_type": "code",
   "execution_count": 5,
   "metadata": {},
   "outputs": [
    {
     "name": "stdout",
     "output_type": "stream",
     "text": [
      "section                                                                      0\n",
      "population                                                                   0\n",
      "single_women_aged_16_to_64                                                   0\n",
      "single_men_aged_16_to_64                                                     0\n",
      "single_women_aged_65_or_over                                                 0\n",
      "single_men_aged_65_or_over                                                   7\n",
      "adult_women_with_one_or_more_minors                                         18\n",
      "adult_men_with_one_or_more_minors                                         1648\n",
      "two_adults_from_16_to_64_and_without_minors                                  0\n",
      "two_adults_one_at_least_65_and_without_minors                                0\n",
      "two_adults_and_one_minor                                                     1\n",
      "two_adults_and_two_minors                                                    0\n",
      "two_adults_and_three_or_more_minors                                        327\n",
      "two_adults_over_35_and_one_adult_from_16_to_34                               0\n",
      "two_adults_over_35_and_one_adult_from_16_to_34_and_one_minor                36\n",
      "two_adults_over_35_and_one_adult_from_16_to_34_and_two_minors              590\n",
      "three_adults_and_0_or_more_minors                                            0\n",
      "two_adults_over_35_and_two_adults_from_16_to_34                              1\n",
      "two_adults_over_35_and_two_adults_from_16_to_34_and_one_minor              637\n",
      "two_adults_over_35_and_two_adults_from_16_to_34_and_two_or_more_minors    2488\n",
      "four_adults_and_0_or_more_minors                                             0\n",
      "five_adults_and_0_or_more_minors                                             0\n",
      "fifteen_or_more_inhabitants                                               6141\n",
      "only_minors                                                               6310\n",
      "Year                                                                         0\n",
      "dtype: int64\n"
     ]
    }
   ],
   "source": [
    "dftmp = df.replace(0,np.nan)\n",
    "print(dftmp.isnull().sum())\n",
    "count = dftmp.isnull().mean()\n"
   ]
  },
  {
   "cell_type": "code",
   "execution_count": null,
   "metadata": {},
   "outputs": [],
   "source": [
    "fig, ax = plt.subplots(figsize =(20, 20))\n",
    "ax.barh(df.columns,count)\n",
    "\n",
    "for s in ['top', 'bottom', 'left', 'right']: # Remove axes splines\n",
    "    ax.spines[s].set_visible(False)\n",
    "\n",
    "for i in ax.patches: # Add annotation to bars\n",
    "    plt.text(i.get_width()+0.02, i.get_y()+0.4, str(round((i.get_width()), 3)), fontsize = 15, fontweight ='bold')\n",
    "\n",
    "ax.set_title('Percentage of missing values', loc ='left', fontsize=18,fontweight='bold' )\n",
    "ax.tick_params(axis = 'both', labelsize=15)\n",
    "plt.show()"
   ]
  },
  {
   "cell_type": "markdown",
   "metadata": {},
   "source": [
    "The graph above shows us in percentage the number of zeros that exist in the columns.\n",
    "\n",
    "The columns with a higher percentage (grater than 25%) are `only_minors` with 86.1%, `fifteen_or_more_inhabitants` with 83.8% and `two_adults_over_35_and_two_adults_from_16_to_34_and_two_or_more_minors` with 33.9%. All these values do not seem to be null, since these situations are rare and it is logical  not to find this type of distribution in Spain households.\n",
    "\n",
    "Although it is rare that there are so many zeros in `adult_men_with_one_or_more_minors` compared to `adult_women_with_one_or_more_minors`, where the first has a percentage of 22.5% and the second one with 0.2%. It is quite surprising that there are not similar. However, it is said that children are usually more affectionate towards women so we have decided not to impute it since this social prejudice could be true.\n",
    "\n",
    "Regarding the rest they seems quite cohherents in our context."
   ]
  }
 ],
 "metadata": {
  "kernelspec": {
   "display_name": "Python 3.8.10 64-bit",
   "language": "python",
   "name": "python3"
  },
  "language_info": {
   "codemirror_mode": {
    "name": "ipython",
    "version": 3
   },
   "file_extension": ".py",
   "mimetype": "text/x-python",
   "name": "python",
   "nbconvert_exporter": "python",
   "pygments_lexer": "ipython3",
   "version": "3.8.10"
  },
  "orig_nbformat": 4,
  "vscode": {
   "interpreter": {
    "hash": "916dbcbb3f70747c44a77c7bcd40155683ae19c65e1c03b4aa3499c5328201f1"
   }
  }
 },
 "nbformat": 4,
 "nbformat_minor": 2
}
