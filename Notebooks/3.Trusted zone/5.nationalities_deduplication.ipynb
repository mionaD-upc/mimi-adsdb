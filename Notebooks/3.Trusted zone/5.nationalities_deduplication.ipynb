{
 "cells": [
  {
   "cell_type": "code",
   "execution_count": 1,
   "metadata": {},
   "outputs": [
    {
     "name": "stdout",
     "output_type": "stream",
     "text": [
      "/Users/miona.dimic/Desktop/MDS/ADSDB/project/mimi-adsdb/Notebooks/3.Trusted zone\n"
     ]
    }
   ],
   "source": [
    "import importlib\n",
    "\n",
    "\n",
    "import os\n",
    "from traceback import print_tb\n",
    "import pandas as pd\n",
    "import duckdb\n",
    "\n",
    "import os, sys \n",
    "from pathlib import Path\n",
    "tmp = Path.cwd()\n",
    "print(tmp)\n",
    "os.chdir(Path.cwd().parent)\n",
    "\n",
    "\n",
    "if Path.cwd() not in sys.path:\n",
    " sys.path.append(Path.cwd())\n",
    "\n",
    "import utils\n",
    "\n",
    "\n",
    "os.chdir(tmp)\n",
    "#print(tmp)"
   ]
  },
  {
   "cell_type": "code",
   "execution_count": 2,
   "metadata": {},
   "outputs": [
    {
     "name": "stdout",
     "output_type": "stream",
     "text": [
      "Index(['Belarús', 'Mónaco', 'República_Democrática_del_Congo', 'Samoa',\n",
      "       'Santa_Sede', 'Year'],\n",
      "      dtype='object')\n",
      "Index(['Bielorrusia', 'Djibouti', 'Islas_Marshall',\n",
      "       'República_Democrática_del_Congo', 'Surinam', 'Vanuatu', 'Year'],\n",
      "      dtype='object')\n",
      "Index(['Bielorrusia', 'Islas_Marshall', 'Papúa_Nueva_Guinea',\n",
      "       'República_Democrática_del_Cong', 'Samoa',\n",
      "       'San_Vicente_y_Las_Granadinas', 'Surinam', 'Year'],\n",
      "      dtype='object')\n"
     ]
    }
   ],
   "source": [
    "\n",
    "\n",
    "con = duckdb.connect('../nationalities.duckdb')\n",
    "\n",
    "nat2018 = con.execute(\"SELECT *  FROM nationalities2018 LIMIT 0\").df()\n",
    "natcols_2018 = nat2018.columns\n",
    "\n",
    "nat2019 = con.execute(\"SELECT * FROM nationalities2019 LIMIT 0\").df()\n",
    "natcols_2019 = nat2019.columns\n",
    "\n",
    "nat2020 = con.execute(\"SELECT * FROM nationalities2020 LIMIT 0\").df()\n",
    "natcols_2020 = nat2020.columns \n",
    "\n",
    "natJoined = con.execute(\"SELECT * FROM nationalities LIMIT 0\").df()\n",
    "cols = natJoined.columns \n",
    "\n",
    "#checking for possible typos inside nationalities table\n",
    "\n",
    "# missing in 2018\n",
    "dif18= cols.difference(natcols_2018)\n",
    "\n",
    "# missing in 2019\n",
    "dif19 = cols.difference(natcols_2019)\n",
    "\n",
    "#missing in 2020\n",
    "dif20 = cols.difference(natcols_2020)\n",
    "\n",
    "print(dif18)\n",
    "print(dif19)\n",
    "print(dif20)\n",
    "\n",
    "#joined table has both Belarús and Bielorrusia, República_Democrática_del_Congo and República_Democrática_del_Cong"
   ]
  },
  {
   "cell_type": "code",
   "execution_count": 3,
   "metadata": {},
   "outputs": [],
   "source": [
    "# remove duplicates\n",
    "con = duckdb.connect('../nationalities.duckdb')\n",
    "n2018 = con.execute(\"SELECT *  FROM nationalities WHERE  Year = 2018\").df()\n",
    "n2018 = n2018[n2018.columns.difference(['Belarús','República_Democrática_del_Congo' ])] # remove empty columns Belarús and República_Democrática_del_Congo\n",
    "n2018 = n2018.rename(columns = {'Bielorrusia':'Belarús', 'República_Democrática_del_Cong':'República_Democrática_del_Congo'})  #rename in right format\n",
    "\n",
    "n2019 = con.execute(\"SELECT *  FROM nationalities WHERE  Year = 2019\").df()\n",
    "n2019 = n2019[n2019.columns.difference(['Bielorrusia','República_Democrática_del_Cong' ])] # remove empty columns Bielorrusia and República_Democrática_del_Cong\n",
    "\n",
    "\n",
    "n2020 = con.execute(\"SELECT *  FROM nationalities WHERE  Year = 2020\").df() \n",
    "n2020 = n2020[n2020.columns.difference(['Bielorrusia','República_Democrática_del_Cong' ])] # remove empty columns  Bielorrusia and República_Democrática_del_Cong\n",
    "\n",
    "cleanNatTable = pd.concat([n2018, n2019, n2020],ignore_index = True)\n",
    "\n",
    "#display(cleanNatTable)\n",
    "\n",
    "utils.df_to_DBtable('../nationalities.duckdb',cleanNatTable, 'nationalitiesClean')\n",
    "\n",
    "con.close()\n"
   ]
  },
  {
   "cell_type": "code",
   "execution_count": 4,
   "metadata": {},
   "outputs": [
    {
     "data": {
      "text/html": [
       "<div>\n",
       "<style scoped>\n",
       "    .dataframe tbody tr th:only-of-type {\n",
       "        vertical-align: middle;\n",
       "    }\n",
       "\n",
       "    .dataframe tbody tr th {\n",
       "        vertical-align: top;\n",
       "    }\n",
       "\n",
       "    .dataframe thead th {\n",
       "        text-align: right;\n",
       "    }\n",
       "</style>\n",
       "<table border=\"1\" class=\"dataframe\">\n",
       "  <thead>\n",
       "    <tr style=\"text-align: right;\">\n",
       "      <th></th>\n",
       "      <th>Madrid_section</th>\n",
       "      <th>Year</th>\n",
       "      <th>count_star()</th>\n",
       "    </tr>\n",
       "  </thead>\n",
       "  <tbody>\n",
       "  </tbody>\n",
       "</table>\n",
       "</div>"
      ],
      "text/plain": [
       "Empty DataFrame\n",
       "Columns: [Madrid_section, Year, count_star()]\n",
       "Index: []"
      ]
     },
     "metadata": {},
     "output_type": "display_data"
    }
   ],
   "source": [
    "con = duckdb.connect('../nationalities.duckdb')\n",
    "df = con.execute(f'SELECT Madrid_section, year, COUNT(*) FROM nationalitiesClean  GROUP BY Madrid_section , year HAVING COUNT(*) > 1').df()\n",
    "con.close()\n",
    "display(df)\n",
    "# no duplicates for section-code found"
   ]
  }
 ],
 "metadata": {
  "kernelspec": {
   "display_name": "Python 3.10.8 64-bit",
   "language": "python",
   "name": "python3"
  },
  "language_info": {
   "codemirror_mode": {
    "name": "ipython",
    "version": 3
   },
   "file_extension": ".py",
   "mimetype": "text/x-python",
   "name": "python",
   "nbconvert_exporter": "python",
   "pygments_lexer": "ipython3",
   "version": "3.10.8"
  },
  "orig_nbformat": 4,
  "vscode": {
   "interpreter": {
    "hash": "aee8b7b246df8f9039afb4144a1f6fd8d2ca17a180786b69acc140d282b71a49"
   }
  }
 },
 "nbformat": 4,
 "nbformat_minor": 2
}
