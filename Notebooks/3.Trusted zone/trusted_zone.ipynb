{
 "cells": [
  {
   "cell_type": "markdown",
   "metadata": {},
   "source": [
    "# Trusted zone"
   ]
  },
  {
   "cell_type": "code",
   "execution_count": null,
   "metadata": {},
   "outputs": [],
   "source": [
    "import pandas as pd\n",
    "\n",
    "import os, sys\n",
    "module_path = os.path.abspath(os.path.join('..'))\n",
    "if module_path not in sys.path:\n",
    "    sys.path.append(module_path)\n",
    "\n",
    "import utils"
   ]
  },
  {
   "cell_type": "code",
   "execution_count": null,
   "metadata": {},
   "outputs": [],
   "source": [
    "\n",
    "def pre_join(DB):\n",
    "    \"\"\"\n",
    "    Adds a version (year) column to all `DB` tables in order to do the joining.\n",
    "    Returns all the `DB` tables in data frame format.\n",
    "    \"\"\"\n",
    "    tablesDB = utils.get_tables(DB)\n",
    "    dfs = []\n",
    "    for table in tablesDB:\n",
    "        year = table[-4:]\n",
    "        df = utils.DBtable_to_df(DB, table)\n",
    "        df['Year'] = year\n",
    "        dfs.append(df)\n",
    "    return dfs\n",
    "\n",
    "def trusted_zone(DB,table):\n",
    "    \"\"\"\n",
    "    Joins all the tables found in the database `DB` into one called `table`.\n",
    "    \"\"\"\n",
    "    dfs = pre_join(DB)\n",
    "    df = pd.concat(dfs, axis=0, ignore_index=True)\n",
    "    utils.df_to_DBtable(DB,df,table)"
   ]
  },
  {
   "cell_type": "code",
   "execution_count": null,
   "metadata": {},
   "outputs": [],
   "source": [
    "trusted_zone('../nationalities.duckdb', 'nationalities')\n",
    "trusted_zone('../household.duckdb', 'household')"
   ]
  },
  {
   "cell_type": "markdown",
   "metadata": {},
   "source": [
    "### Test"
   ]
  },
  {
   "cell_type": "markdown",
   "metadata": {},
   "source": [
    "#### nationalities "
   ]
  },
  {
   "cell_type": "code",
   "execution_count": null,
   "metadata": {},
   "outputs": [],
   "source": [
    "# nationalities joined\n",
    "utils.DBtable_to_df('../nationalities.duckdb','nationalities')"
   ]
  },
  {
   "cell_type": "markdown",
   "metadata": {},
   "source": [
    "#### household"
   ]
  },
  {
   "cell_type": "code",
   "execution_count": null,
   "metadata": {},
   "outputs": [],
   "source": [
    "utils.DBtable_to_df('../household.duckdb','household')"
   ]
  }
 ],
 "metadata": {
  "kernelspec": {
   "display_name": "Python 3.8.10 64-bit",
   "language": "python",
   "name": "python3"
  },
  "language_info": {
   "codemirror_mode": {
    "name": "ipython",
    "version": 3
   },
   "file_extension": ".py",
   "mimetype": "text/x-python",
   "name": "python",
   "nbconvert_exporter": "python",
   "pygments_lexer": "ipython3",
   "version": "3.8.10"
  },
  "orig_nbformat": 4,
  "vscode": {
   "interpreter": {
    "hash": "916dbcbb3f70747c44a77c7bcd40155683ae19c65e1c03b4aa3499c5328201f1"
   }
  }
 },
 "nbformat": 4,
 "nbformat_minor": 2
}
