{
 "cells": [
  {
   "cell_type": "code",
   "execution_count": 1,
   "metadata": {},
   "outputs": [],
   "source": [
    "import pandas as pd\n",
    "import matplotlib.pyplot as plt\n",
    "import numpy as np\n",
    "import os,sys\n",
    "module_path = os.path.abspath(os.path.join('../..'))\n",
    "if module_path not in sys.path:\n",
    "    sys.path.append(module_path)\n",
    "\n",
    "import utils\n",
    "%store -r grid"
   ]
  },
  {
   "attachments": {},
   "cell_type": "markdown",
   "metadata": {},
   "source": [
    "## Validating Random Forest"
   ]
  },
  {
   "cell_type": "code",
   "execution_count": 2,
   "metadata": {},
   "outputs": [
    {
     "name": "stdout",
     "output_type": "stream",
     "text": [
      "- Best Params: {'n_estimators': 693, 'min_samples_split': 2, 'min_samples_leaf': 1, 'max_features': None, 'max_depth': 340, 'bootstrap': True}\n"
     ]
    }
   ],
   "source": [
    "print('- Best Params:', grid.best_params_)"
   ]
  },
  {
   "cell_type": "code",
   "execution_count": 3,
   "metadata": {},
   "outputs": [
    {
     "name": "stdout",
     "output_type": "stream",
     "text": [
      "- R^2: { train: 0.978, CV: 0.828, test: 0.813}\n",
      "- Adj R^2: { train: 0.978, CV: 0.828, test: 0.813}\n"
     ]
    }
   ],
   "source": [
    "X_train, X_test, y_train, y_test = utils.load_data('.')\n",
    "best_model = grid.best_estimator_\n",
    "test_r2 = best_model.score(X=X_test, y=y_test)\n",
    "train_r2 = best_model.score(X=X_train, y=y_train)\n",
    "print(f'- R^2: {{ train: {train_r2:.3f}, CV: {grid.best_score_:.3f}, test: {test_r2:.3f}}}')\n",
    "\n",
    "n_train = X_train.shape[0] \n",
    "n_test =  X_test.shape[0]\n",
    "p = X_train.shape[1]\n",
    "test_r2_adj = 1-(1-test_r2)*(n_test-1)/(n_test-p-1)\n",
    "train_r2_adj = 1-(1-train_r2)*(n_train-1)/(n_train-p-1)\n",
    "cv_r2_adj =  1-(1-grid.best_score_)*(n_train-1)/(n_train-p-1)\n",
    "print(f'- Adj R^2: {{ train: {train_r2_adj:.3f}, CV: {cv_r2_adj:.3f}, test: {test_r2_adj:.3f}}}')"
   ]
  },
  {
   "cell_type": "code",
   "execution_count": 4,
   "metadata": {},
   "outputs": [
    {
     "name": "stdout",
     "output_type": "stream",
     "text": [
      "TRAIN SCORES\n",
      "  - Explained variance:  0.9782\n",
      "  - MAE:  13.5298\n",
      "  - MSE:  366.1206\n",
      "  - RMSE:  19.1343\n",
      "TEST SCORES\n",
      "  - Explained variance:  0.8134\n",
      "  - MAE:  38.4417\n",
      "  - MSE:  3287.5219\n",
      "  - RMSE:  57.3369\n"
     ]
    },
    {
     "ename": "",
     "evalue": "",
     "output_type": "error",
     "traceback": [
      "\u001b[1;31mThe Kernel crashed while executing code in the the current cell or a previous cell. Please review the code in the cell(s) to identify a possible cause of the failure. Click <a href='https://aka.ms/vscodeJupyterKernelCrash'>here</a> for more info. View Jupyter <a href='command:jupyter.viewOutput'>log</a> for further details."
     ]
    }
   ],
   "source": [
    "print('TRAIN SCORES')\n",
    "utils.regression_results(y_train,grid.predict(X_train))\n",
    "\n",
    "print('TEST SCORES')\n",
    "utils.regression_results(y_test,grid.predict(X_test))"
   ]
  }
 ],
 "metadata": {
  "kernelspec": {
   "display_name": "Python 3",
   "language": "python",
   "name": "python3"
  },
  "language_info": {
   "codemirror_mode": {
    "name": "ipython",
    "version": 3
   },
   "file_extension": ".py",
   "mimetype": "text/x-python",
   "name": "python",
   "nbconvert_exporter": "python",
   "pygments_lexer": "ipython3",
   "version": "3.8.10"
  },
  "orig_nbformat": 4,
  "vscode": {
   "interpreter": {
    "hash": "916dbcbb3f70747c44a77c7bcd40155683ae19c65e1c03b4aa3499c5328201f1"
   }
  }
 },
 "nbformat": 4,
 "nbformat_minor": 2
}
