{
 "cells": [
  {
   "cell_type": "code",
   "execution_count": 80,
   "metadata": {},
   "outputs": [],
   "source": [
    "import duckdb\n",
    "import numpy as np\n",
    "from sklearn.model_selection import train_test_split\n",
    "import os, sys\n",
    "module_path = os.path.abspath(os.path.join('../..'))\n",
    "if module_path not in sys.path:\n",
    "    sys.path.append(module_path)\n",
    "\n",
    "import utils "
   ]
  },
  {
   "cell_type": "code",
   "execution_count": 81,
   "metadata": {},
   "outputs": [
    {
     "name": "stdout",
     "output_type": "stream",
     "text": [
      "Requirement already satisfied: sklearn_relief in /usr/local/lib/python3.10/site-packages (1.0.0b2)\n",
      "Requirement already satisfied: scikit-learn>=0.19.1 in /usr/local/lib/python3.10/site-packages (from sklearn_relief) (1.2.0)\n",
      "Requirement already satisfied: scipy>=1.0.0 in /usr/local/lib/python3.10/site-packages (from sklearn_relief) (1.9.3)\n",
      "Requirement already satisfied: numpy>=1.13.3 in /usr/local/lib/python3.10/site-packages (from sklearn_relief) (1.24.1)\n",
      "Requirement already satisfied: joblib>=1.1.1 in /usr/local/lib/python3.10/site-packages (from scikit-learn>=0.19.1->sklearn_relief) (1.2.0)\n",
      "Requirement already satisfied: threadpoolctl>=2.0.0 in /usr/local/lib/python3.10/site-packages (from scikit-learn>=0.19.1->sklearn_relief) (3.1.0)\n"
     ]
    }
   ],
   "source": [
    "! pip install sklearn_relief\n",
    "\n",
    "# Base Libraries\n",
    "import numpy as np \n",
    "import pandas as pd\n",
    "import matplotlib.pyplot as plt\n",
    "import seaborn as sns\n",
    "import os\n",
    "# Transformation\n",
    "from sklearn.preprocessing import MinMaxScaler\n",
    "from sklearn.preprocessing import power_transform\n",
    "from sklearn.pipeline import Pipeline\n",
    "# Feature Selection\n",
    "import sklearn_relief as sr\n",
    "# Models\n",
    "from sklearn.model_selection import train_test_split\n",
    "from sklearn.ensemble import RandomForestRegressor"
   ]
  },
  {
   "cell_type": "code",
   "execution_count": 109,
   "metadata": {},
   "outputs": [],
   "source": [
    "data = utils.DBtable_to_df('../integration.duckdb', 'sandbox')\n",
    "dataN = data.drop(columns=['Year','Madrid_section'])\n",
    "dataN = dataN.astype(float)"
   ]
  },
  {
   "cell_type": "code",
   "execution_count": 111,
   "metadata": {},
   "outputs": [],
   "source": [
    "\n",
    "dataN.reset_index(drop=True, inplace=True)\n",
    "scaler = MinMaxScaler()\n",
    "dataN = power_transform(dataN, method='yeo-johnson')\n",
    "dataN = scaler.fit_transform(dataN)\n"
   ]
  },
  {
   "cell_type": "code",
   "execution_count": 112,
   "metadata": {},
   "outputs": [],
   "source": [
    "X = dataN[:,0:22]\n",
    "y = dataN[:,22]"
   ]
  },
  {
   "cell_type": "code",
   "execution_count": null,
   "metadata": {},
   "outputs": [],
   "source": [
    "#X_train, X_test, y_train, y_test = train_test_split(X,y, test_size = 0.3, random_state = 0)\n",
    "#r = sr.RReliefF(n_features = 5)\n",
    "#print(r.fit_transform(X_train,y_train))"
   ]
  },
  {
   "cell_type": "code",
   "execution_count": 114,
   "metadata": {},
   "outputs": [
    {
     "name": "stdout",
     "output_type": "stream",
     "text": [
      "[1 2 3 4]\n",
      "NOF: 1, Score: 0.3419281033543895\n",
      "NOF: 2, Score: 0.46368537724461456\n",
      "NOF: 3, Score: 0.3659614308762871\n",
      "NOF: 4, Score: 0.6115408950200218\n",
      "High Score: NOF: 4, Score: 0.6115408950200218\n",
      "None\n"
     ]
    }
   ],
   "source": [
    "\n",
    "nof_list=np.arange(1,5)     \n",
    "print(nof_list)       \n",
    "high_score=0\n",
    "nof=0           \n",
    "score_list =[]\n",
    "for n in range(len(nof_list)):\n",
    "    X_train, X_test, y_train, y_test = train_test_split(X,y, test_size = 0.3, random_state = 0)\n",
    "    fs = sr.RReliefF(n_features = nof_list[n])\n",
    "    relief = Pipeline([('fs', fs), ('m', RandomForestRegressor())])\n",
    "    relief.fit(X_train,y_train)\n",
    "    score = relief.score(X_test,y_test)\n",
    "    score_list.append(score)\n",
    "    print(f'NOF: {nof_list[n]}, Score: {score}')\n",
    "    if(score > high_score):\n",
    "        high_score = score\n",
    "        nof = nof_list[n]\n",
    "\n",
    "print (print(f'High Score: NOF: {nof}, Score: {high_score}'))"
   ]
  }
 ],
 "metadata": {
  "kernelspec": {
   "display_name": "Python 3",
   "language": "python",
   "name": "python3"
  },
  "language_info": {
   "codemirror_mode": {
    "name": "ipython",
    "version": 3
   },
   "file_extension": ".py",
   "mimetype": "text/x-python",
   "name": "python",
   "nbconvert_exporter": "python",
   "pygments_lexer": "ipython3",
   "version": "3.10.8"
  },
  "orig_nbformat": 4,
  "vscode": {
   "interpreter": {
    "hash": "aee8b7b246df8f9039afb4144a1f6fd8d2ca17a180786b69acc140d282b71a49"
   }
  }
 },
 "nbformat": 4,
 "nbformat_minor": 2
}
