{
 "cells": [
  {
   "cell_type": "code",
   "execution_count": null,
   "metadata": {},
   "outputs": [],
   "source": [
    "import numpy as np\n",
    "import pandas as pd\n",
    "import os, sys\n",
    "module_path = os.path.abspath(os.path.join('../..'))\n",
    "if module_path not in sys.path:\n",
    "    sys.path.append(module_path)\n",
    "\n",
    "import utils \n",
    "from sklearn.ensemble import RandomForestClassifier\n",
    "from sklearn.model_selection import RandomizedSearchCV\n",
    "from sklearn import metrics\n",
    "from sklearn.metrics import classification_report, confusion_matrix"
   ]
  },
  {
   "cell_type": "code",
   "execution_count": null,
   "metadata": {},
   "outputs": [],
   "source": [
    "def train_data():\n",
    "    data = utils.DBtable_to_df('../integration.duckdb', 'integratedTable')\n",
    "\n",
    "    X = data[data.columns[1:].tolist()] # features\n",
    "    y = data['Madrid_section'] # target\n",
    "\n",
    "    X_train = pd.read_pickle('../Feature generation/data-X_train.pkl.bz2', compression='bz2')\n",
    "    y_train = pd.read_pickle('../Feature generation/data-y_train.pkl.bz2', compression='bz2')\n",
    "    X_test  = pd.read_pickle('../Feature generation/data-X_test.pkl.bz2', compression='bz2')\n",
    "    y_test  = pd.read_pickle('../Feature generation/data-y_test.pkl.bz2', compression='bz2')\n",
    "\n",
    "    return X, y, X_train, X_test, y_train, y_test\n",
    "\n",
    "gridSearch = True"
   ]
  },
  {
   "attachments": {},
   "cell_type": "markdown",
   "metadata": {},
   "source": [
    "# Building Random Forest"
   ]
  },
  {
   "cell_type": "code",
   "execution_count": null,
   "metadata": {},
   "outputs": [],
   "source": [
    "X, y, X_train, X_test, y_train, y_test = train_data()\n",
    "\n",
    "if gridSearch:\n",
    "    n_est = [int(x) for x in np.linspace(start = 200, stop = 2000, num = 10)]\n",
    "    max_d = [int(x) for x in np.linspace(10, 110, num = 11)]\n",
    "    max_d.append(None)\n",
    "    parameters = {'n_estimators': n_est, 'max_features': ['auto','sqrt'], 'bootstrap': [True,False], 'max_depth': max_d, 'min_samples_split': [2,5,10], 'min_samples_leaf': [1, 2, 4]}\n",
    "    \n",
    "else :\n",
    "    parameters = {'n_estimators': [889], 'min_samples_split': [10], 'min_samples_leaf': [2], 'max_features': ['sqrt'], 'max_depth': [800], 'bootstrap': [True]} \n",
    "\n",
    "print(parameters)\n",
    "model = RandomForestClassifier()\n",
    "grid = RandomizedSearchCV(estimator = model, param_distributions = parameters, n_iter = 100, cv = 3, verbose=2, random_state=42, n_jobs = -1)\n",
    "grid.fit(X_train, y_train)\n",
    "\n",
    "best_model = grid.best_estimator_\n",
    "test_acc = best_model.score(X=X_test, y=y_test)\n",
    "train_acc = best_model.score(X=X_train, y=y_train)\n",
    "\n",
    "print('\\nRandom Forest:')\n",
    "print('- Best Params:', grid.best_params_)\n",
    "print(f'- Accuracy: {{ train: {train_acc:.3f}, CV: {grid.best_score_:.3f}, test: {test_acc:.3f}}}')"
   ]
  },
  {
   "attachments": {},
   "cell_type": "markdown",
   "metadata": {},
   "source": [
    "Model metrics (validation)"
   ]
  },
  {
   "cell_type": "code",
   "execution_count": null,
   "metadata": {},
   "outputs": [],
   "source": [
    "print(classification_report(y_test,grid.predict(X_test),target_names=['NoDef', 'Def'], digits=3))\n",
    "\n",
    "cm = confusion_matrix(y_test, grid.predict(X_test))\n",
    "print ('\\nConfusion matrix: \\n', cm)"
   ]
  }
 ],
 "metadata": {
  "kernelspec": {
   "display_name": "Python 3",
   "language": "python",
   "name": "python3"
  },
  "language_info": {
   "codemirror_mode": {
    "name": "ipython",
    "version": 3
   },
   "file_extension": ".py",
   "mimetype": "text/x-python",
   "name": "python",
   "nbconvert_exporter": "python",
   "pygments_lexer": "ipython3",
   "version": "3.8.10"
  },
  "orig_nbformat": 4,
  "vscode": {
   "interpreter": {
    "hash": "916dbcbb3f70747c44a77c7bcd40155683ae19c65e1c03b4aa3499c5328201f1"
   }
  }
 },
 "nbformat": 4,
 "nbformat_minor": 2
}
