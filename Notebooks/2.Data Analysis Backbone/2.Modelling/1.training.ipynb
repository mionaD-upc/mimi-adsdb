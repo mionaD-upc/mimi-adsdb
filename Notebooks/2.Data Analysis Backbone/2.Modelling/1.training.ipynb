{
 "cells": [
  {
   "cell_type": "code",
   "execution_count": 1,
   "metadata": {},
   "outputs": [],
   "source": [
    "import numpy as np\n",
    "import pandas as pd\n",
    "import os, sys\n",
    "module_path = os.path.abspath(os.path.join('../..'))\n",
    "if module_path not in sys.path:\n",
    "    sys.path.append(module_path)\n",
    "\n",
    "import utils\n",
    "from sklearn.ensemble import RandomForestRegressor\n",
    "from sklearn.model_selection import RandomizedSearchCV\n",
    "from sklearn import metrics\n",
    "import matplotlib.pyplot as plt\n",
    "from sklearn.inspection import permutation_importance"
   ]
  },
  {
   "cell_type": "code",
   "execution_count": 2,
   "metadata": {},
   "outputs": [],
   "source": [
    "def train_data():\n",
    "    X_train = pd.read_pickle('../1.Feature generation/data-X_train.pkl.bz2', compression='bz2')\n",
    "    y_train = pd.read_pickle('../1.Feature generation/data-y_train.pkl.bz2', compression='bz2')\n",
    "    X_test  = pd.read_pickle('../1.Feature generation/data-X_test.pkl.bz2', compression='bz2')\n",
    "    y_test  = pd.read_pickle('../1.Feature generation/data-y_test.pkl.bz2', compression='bz2')\n",
    "\n",
    "    return X_train, X_test, y_train, y_test\n",
    "\n",
    "gridSearch = False"
   ]
  },
  {
   "attachments": {},
   "cell_type": "markdown",
   "metadata": {},
   "source": [
    "# Building Random Forest"
   ]
  },
  {
   "cell_type": "code",
   "execution_count": 3,
   "metadata": {},
   "outputs": [
    {
     "name": "stdout",
     "output_type": "stream",
     "text": [
      "Fitting 5 folds for each of 1 candidates, totalling 5 fits\n"
     ]
    },
    {
     "name": "stderr",
     "output_type": "stream",
     "text": [
      "/home/miriam/.local/lib/python3.8/site-packages/sklearn/model_selection/_search.py:306: UserWarning: The total space of parameters 1 is smaller than n_iter=100. Running 1 iterations. For exhaustive searches, use GridSearchCV.\n",
      "  warnings.warn(\n"
     ]
    }
   ],
   "source": [
    "X_train, X_test, y_train, y_test = train_data()\n",
    "\n",
    "if gridSearch:\n",
    "    n_est = [int(x) for x in np.linspace(start = 1, stop = 1000, num = 10)]\n",
    "    max_d = [int(x) for x in np.linspace(10, 1000, num = 10)]\n",
    "    max_d.append(None)\n",
    "    parameters = {'n_estimators': n_est, 'max_features': [None,'sqrt'], 'bootstrap': [True], 'max_depth': max_d, 'min_samples_split': [2,5], 'min_samples_leaf': [1, 2, 4]}\n",
    "    \n",
    "else :\n",
    "    parameters = {'n_estimators': [445], 'min_samples_split': [2], 'min_samples_leaf': [1], 'max_features': [None], 'max_depth': [450], 'bootstrap': [True]}\n",
    "\n",
    "model = RandomForestRegressor()\n",
    "grid = RandomizedSearchCV(model, parameters, n_iter = 100, cv = 5, verbose=1, random_state=1, n_jobs = -1)\n",
    "grid.fit(X_train, y_train)\n",
    "\n",
    "best_model = grid.best_estimator_"
   ]
  },
  {
   "cell_type": "code",
   "execution_count": 4,
   "metadata": {},
   "outputs": [
    {
     "name": "stdout",
     "output_type": "stream",
     "text": [
      "- Best Params: {'n_estimators': 445, 'min_samples_split': 2, 'min_samples_leaf': 1, 'max_features': None, 'max_depth': 450, 'bootstrap': True}\n"
     ]
    },
    {
     "data": {
      "text/html": [
       "<div>\n",
       "<style scoped>\n",
       "    .dataframe tbody tr th:only-of-type {\n",
       "        vertical-align: middle;\n",
       "    }\n",
       "\n",
       "    .dataframe tbody tr th {\n",
       "        vertical-align: top;\n",
       "    }\n",
       "\n",
       "    .dataframe thead th {\n",
       "        text-align: right;\n",
       "    }\n",
       "</style>\n",
       "<table border=\"1\" class=\"dataframe\">\n",
       "  <thead>\n",
       "    <tr style=\"text-align: right;\">\n",
       "      <th></th>\n",
       "      <th>params</th>\n",
       "      <th>mean_test_score</th>\n",
       "      <th>rank_test_score</th>\n",
       "    </tr>\n",
       "  </thead>\n",
       "  <tbody>\n",
       "    <tr>\n",
       "      <th>0</th>\n",
       "      <td>{'n_estimators': 445, 'min_samples_split': 2, ...</td>\n",
       "      <td>0.839107</td>\n",
       "      <td>1</td>\n",
       "    </tr>\n",
       "  </tbody>\n",
       "</table>\n",
       "</div>"
      ],
      "text/plain": [
       "                                              params  mean_test_score  \\\n",
       "0  {'n_estimators': 445, 'min_samples_split': 2, ...         0.839107   \n",
       "\n",
       "   rank_test_score  \n",
       "0                1  "
      ]
     },
     "execution_count": 4,
     "metadata": {},
     "output_type": "execute_result"
    }
   ],
   "source": [
    "print('- Best Params:', grid.best_params_)\n",
    "pd.DataFrame(grid.cv_results_).loc[:,['params', 'mean_test_score','rank_test_score']].sort_values(by='rank_test_score')"
   ]
  },
  {
   "cell_type": "code",
   "execution_count": 5,
   "metadata": {},
   "outputs": [
    {
     "name": "stdout",
     "output_type": "stream",
     "text": [
      "Stored 'grid' (RandomizedSearchCV)\n"
     ]
    }
   ],
   "source": [
    "%store grid"
   ]
  }
 ],
 "metadata": {
  "kernelspec": {
   "display_name": "Python 3",
   "language": "python",
   "name": "python3"
  },
  "language_info": {
   "codemirror_mode": {
    "name": "ipython",
    "version": 3
   },
   "file_extension": ".py",
   "mimetype": "text/x-python",
   "name": "python",
   "nbconvert_exporter": "python",
   "pygments_lexer": "ipython3",
   "version": "3.8.10"
  },
  "orig_nbformat": 4,
  "vscode": {
   "interpreter": {
    "hash": "916dbcbb3f70747c44a77c7bcd40155683ae19c65e1c03b4aa3499c5328201f1"
   }
  }
 },
 "nbformat": 4,
 "nbformat_minor": 2
}
