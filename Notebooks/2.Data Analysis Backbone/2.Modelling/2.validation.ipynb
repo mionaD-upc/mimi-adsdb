{
 "cells": [
  {
   "cell_type": "code",
   "execution_count": 1,
   "metadata": {},
   "outputs": [],
   "source": [
    "import pandas as pd\n",
    "import matplotlib.pyplot as plt\n",
    "import numpy as np\n",
    "import os\n",
    "module_path = os.path.abspath(os.path.join('../..'))\n",
    "if module_path not in sys.path:\n",
    "    sys.path.append(module_path)\n",
    "\n",
    "import utils\n",
    "%store -r grid"
   ]
  },
  {
   "attachments": {},
   "cell_type": "markdown",
   "metadata": {},
   "source": [
    "## Validating Random Forest"
   ]
  },
  {
   "cell_type": "code",
   "execution_count": 2,
   "metadata": {},
   "outputs": [
    {
     "name": "stdout",
     "output_type": "stream",
     "text": [
      "- R^2: { train: 0.980, CV: 0.839, test: 0.828}\n"
     ]
    }
   ],
   "source": [
    "X_train, X_test, y_train, y_test = utils.load_data()\n",
    "best_model = grid.best_estimator_\n",
    "test_acc = best_model.score(X=X_test, y=y_test)\n",
    "train_acc = best_model.score(X=X_train, y=y_train)\n",
    "\n",
    "print(f'- R^2: {{ train: {train_acc:.3f}, CV: {grid.best_score_:.3f}, test: {test_acc:.3f}}}')"
   ]
  },
  {
   "cell_type": "code",
   "execution_count": 3,
   "metadata": {},
   "outputs": [
    {
     "name": "stdout",
     "output_type": "stream",
     "text": [
      "TRAIN SCORES\n",
      "  - Explained variance:  0.9795\n",
      "  - MAE:  12.9844\n",
      "  - MSE:  343.3503\n",
      "  - RMSE:  18.5297\n",
      "TEST SCORES\n",
      "  - Explained variance:  0.8276\n",
      "  - MAE:  36.9725\n",
      "  - MSE:  3038.7965\n",
      "  - RMSE:  55.1253\n"
     ]
    }
   ],
   "source": [
    "print('TRAIN SCORES')\n",
    "utils.regression_results(y_train,grid.predict(X_train))\n",
    "\n",
    "print('TEST SCORES')\n",
    "utils.regression_results(y_test,grid.predict(X_test))"
   ]
  }
 ],
 "metadata": {
  "kernelspec": {
   "display_name": "Python 3",
   "language": "python",
   "name": "python3"
  },
  "language_info": {
   "codemirror_mode": {
    "name": "ipython",
    "version": 3
   },
   "file_extension": ".py",
   "mimetype": "text/x-python",
   "name": "python",
   "nbconvert_exporter": "python",
   "pygments_lexer": "ipython3",
   "version": "3.8.10"
  },
  "orig_nbformat": 4,
  "vscode": {
   "interpreter": {
    "hash": "916dbcbb3f70747c44a77c7bcd40155683ae19c65e1c03b4aa3499c5328201f1"
   }
  }
 },
 "nbformat": 4,
 "nbformat_minor": 2
}
