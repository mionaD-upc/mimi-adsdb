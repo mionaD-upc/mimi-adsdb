{
 "cells": [
  {
   "cell_type": "code",
   "execution_count": 1,
   "metadata": {},
   "outputs": [],
   "source": [
    "import duckdb\n",
    "import numpy as np\n",
    "from sklearn.model_selection import train_test_split\n",
    "import os, sys\n",
    "module_path = os.path.abspath(os.path.join('../..'))\n",
    "if module_path not in sys.path:\n",
    "    sys.path.append(module_path)\n",
    "\n",
    "import utils "
   ]
  },
  {
   "cell_type": "code",
   "execution_count": 2,
   "metadata": {},
   "outputs": [
    {
     "name": "stdout",
     "output_type": "stream",
     "text": [
      "Collecting sklearn_relief\n",
      "  Downloading sklearn_relief-1.0.0b2-py3-none-any.whl (8.7 kB)\n",
      "Requirement already satisfied: scikit-learn>=0.19.1 in /home/miriam/.local/lib/python3.8/site-packages (from sklearn_relief) (1.2.0)\n",
      "Requirement already satisfied: numpy>=1.13.3 in /home/miriam/.local/lib/python3.8/site-packages (from sklearn_relief) (1.23.4)\n",
      "Requirement already satisfied: scipy>=1.0.0 in /home/miriam/.local/lib/python3.8/site-packages (from sklearn_relief) (1.9.3)\n",
      "Requirement already satisfied: threadpoolctl>=2.0.0 in /home/miriam/.local/lib/python3.8/site-packages (from scikit-learn>=0.19.1->sklearn_relief) (3.1.0)\n",
      "Requirement already satisfied: joblib>=1.1.1 in /home/miriam/.local/lib/python3.8/site-packages (from scikit-learn>=0.19.1->sklearn_relief) (1.2.0)\n",
      "Installing collected packages: sklearn-relief\n",
      "Successfully installed sklearn-relief-1.0.0b2\n"
     ]
    }
   ],
   "source": [
    "! pip install sklearn_relief\n",
    "\n",
    "# Base Libraries\n",
    "import numpy as np \n",
    "import pandas as pd\n",
    "import matplotlib.pyplot as plt\n",
    "import seaborn as sns\n",
    "import os\n",
    "# Transformation\n",
    "from sklearn.preprocessing import MinMaxScaler\n",
    "from sklearn.preprocessing import power_transform\n",
    "from sklearn.pipeline import Pipeline\n",
    "# Feature Selection\n",
    "import sklearn_relief as sr\n",
    "# Models\n",
    "from sklearn.model_selection import train_test_split\n",
    "from sklearn.ensemble import RandomForestRegressor"
   ]
  },
  {
   "cell_type": "code",
   "execution_count": 3,
   "metadata": {},
   "outputs": [
    {
     "ename": "CatalogException",
     "evalue": "Catalog Error: Table with name sandbox does not exist!\nDid you mean \"pg_proc\"?\nLINE 1: SELECT * FROM sandbox\n                      ^",
     "output_type": "error",
     "traceback": [
      "\u001b[0;31m---------------------------------------------------------------------------\u001b[0m",
      "\u001b[0;31mCatalogException\u001b[0m                          Traceback (most recent call last)",
      "Cell \u001b[0;32mIn [3], line 1\u001b[0m\n\u001b[0;32m----> 1\u001b[0m data \u001b[39m=\u001b[39m utils\u001b[39m.\u001b[39;49mDBtable_to_df(\u001b[39m'\u001b[39;49m\u001b[39m../integration.duckdb\u001b[39;49m\u001b[39m'\u001b[39;49m, \u001b[39m'\u001b[39;49m\u001b[39msandbox\u001b[39;49m\u001b[39m'\u001b[39;49m)\n\u001b[1;32m      2\u001b[0m dataN \u001b[39m=\u001b[39m data\u001b[39m.\u001b[39mdrop(columns\u001b[39m=\u001b[39m[\u001b[39m'\u001b[39m\u001b[39mYear\u001b[39m\u001b[39m'\u001b[39m,\u001b[39m'\u001b[39m\u001b[39mMadrid_section\u001b[39m\u001b[39m'\u001b[39m])\n\u001b[1;32m      3\u001b[0m dataN \u001b[39m=\u001b[39m dataN\u001b[39m.\u001b[39mastype(\u001b[39mfloat\u001b[39m)\n",
      "File \u001b[0;32m~/mimi-adsdb/Notebooks/utils.py:33\u001b[0m, in \u001b[0;36mDBtable_to_df\u001b[0;34m(DB, table)\u001b[0m\n\u001b[1;32m     29\u001b[0m \u001b[39m\"\"\"\u001b[39;00m\n\u001b[1;32m     30\u001b[0m \u001b[39mConverts the DB `table` in a data frame format \u001b[39;00m\n\u001b[1;32m     31\u001b[0m \u001b[39m\"\"\"\u001b[39;00m\n\u001b[1;32m     32\u001b[0m con \u001b[39m=\u001b[39m duckdb\u001b[39m.\u001b[39mconnect(DB)\n\u001b[0;32m---> 33\u001b[0m df \u001b[39m=\u001b[39m con\u001b[39m.\u001b[39;49mexecute(\u001b[39mf\u001b[39;49m\u001b[39m'\u001b[39;49m\u001b[39mSELECT * FROM \u001b[39;49m\u001b[39m{\u001b[39;49;00mtable\u001b[39m}\u001b[39;49;00m\u001b[39m'\u001b[39;49m)\u001b[39m.\u001b[39mdf()\n\u001b[1;32m     34\u001b[0m con\u001b[39m.\u001b[39mclose()\n\u001b[1;32m     35\u001b[0m \u001b[39mreturn\u001b[39;00m df\n",
      "\u001b[0;31mCatalogException\u001b[0m: Catalog Error: Table with name sandbox does not exist!\nDid you mean \"pg_proc\"?\nLINE 1: SELECT * FROM sandbox\n                      ^"
     ]
    }
   ],
   "source": [
    "data = utils.DBtable_to_df('../integration.duckdb', 'sandbox')\n",
    "dataN = data.drop(columns=['Year','Madrid_section'])\n",
    "dataN = dataN.astype(float)"
   ]
  },
  {
   "cell_type": "code",
   "execution_count": null,
   "metadata": {},
   "outputs": [],
   "source": [
    "\n",
    "dataN.reset_index(drop=True, inplace=True)\n",
    "scaler = MinMaxScaler()\n",
    "dataN = power_transform(dataN, method='yeo-johnson')\n",
    "dataN = scaler.fit_transform(dataN)\n"
   ]
  },
  {
   "cell_type": "code",
   "execution_count": null,
   "metadata": {},
   "outputs": [],
   "source": [
    "X = dataN[:,0:22]\n",
    "y = dataN[:,22]"
   ]
  },
  {
   "cell_type": "code",
   "execution_count": null,
   "metadata": {},
   "outputs": [],
   "source": [
    "#X_train, X_test, y_train, y_test = train_test_split(X,y, test_size = 0.3, random_state = 0)\n",
    "#r = sr.RReliefF(n_features = 5)\n",
    "#print(r.fit_transform(X_train,y_train))"
   ]
  },
  {
   "cell_type": "code",
   "execution_count": null,
   "metadata": {},
   "outputs": [],
   "source": [
    "\n",
    "nof_list=np.arange(1,5)     \n",
    "print(nof_list)       \n",
    "high_score=0\n",
    "nof=0           \n",
    "score_list =[]\n",
    "for n in range(len(nof_list)):\n",
    "    X_train, X_test, y_train, y_test = train_test_split(X,y, test_size = 0.3, random_state = 0)\n",
    "    fs = sr.RReliefF(n_features = nof_list[n])\n",
    "    relief = Pipeline([('fs', fs), ('m', RandomForestRegressor())])\n",
    "    relief.fit(X_train,y_train)\n",
    "    score = relief.score(X_test,y_test)\n",
    "    score_list.append(score)\n",
    "    print(f'NOF: {nof_list[n]}, Score: {score}')\n",
    "    if(score > high_score):\n",
    "        high_score = score\n",
    "        nof = nof_list[n]\n",
    "\n",
    "print (print(f'High Score: NOF: {nof}, Score: {high_score}'))"
   ]
  }
 ],
 "metadata": {
  "kernelspec": {
   "display_name": "Python 3",
   "language": "python",
   "name": "python3"
  },
  "language_info": {
   "codemirror_mode": {
    "name": "ipython",
    "version": 3
   },
   "file_extension": ".py",
   "mimetype": "text/x-python",
   "name": "python",
   "nbconvert_exporter": "python",
   "pygments_lexer": "ipython3",
   "version": "3.8.10"
  },
  "orig_nbformat": 4,
  "vscode": {
   "interpreter": {
    "hash": "916dbcbb3f70747c44a77c7bcd40155683ae19c65e1c03b4aa3499c5328201f1"
   }
  }
 },
 "nbformat": 4,
 "nbformat_minor": 2
}
