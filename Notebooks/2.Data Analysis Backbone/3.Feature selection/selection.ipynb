{
 "cells": [
  {
   "cell_type": "code",
   "execution_count": 27,
   "metadata": {},
   "outputs": [
    {
     "name": "stdout",
     "output_type": "stream",
     "text": [
      "Requirement already satisfied: sklearn_relief in /usr/local/lib/python3.10/site-packages (1.0.0b2)\n",
      "Requirement already satisfied: scikit-learn>=0.19.1 in /usr/local/lib/python3.10/site-packages (from sklearn_relief) (1.2.0)\n",
      "Requirement already satisfied: numpy>=1.13.3 in /usr/local/lib/python3.10/site-packages (from sklearn_relief) (1.24.1)\n",
      "Requirement already satisfied: scipy>=1.0.0 in /usr/local/lib/python3.10/site-packages (from sklearn_relief) (1.9.3)\n",
      "Requirement already satisfied: threadpoolctl>=2.0.0 in /usr/local/lib/python3.10/site-packages (from scikit-learn>=0.19.1->sklearn_relief) (3.1.0)\n",
      "Requirement already satisfied: joblib>=1.1.1 in /usr/local/lib/python3.10/site-packages (from scikit-learn>=0.19.1->sklearn_relief) (1.2.0)\n"
     ]
    }
   ],
   "source": [
    "! pip install sklearn_relief\n",
    "\n",
    "import duckdb\n",
    "import os, sys\n",
    "module_path = os.path.abspath(os.path.join('../..'))\n",
    "if module_path not in sys.path:\n",
    "    sys.path.append(module_path)\n",
    "\n",
    "import utils \n",
    "\n",
    "# Base Libraries\n",
    "import numpy as np \n",
    "import pandas as pd\n",
    "import matplotlib.pyplot as plt\n",
    "import seaborn as sns\n",
    "import os\n",
    "# Transformation\n",
    "from sklearn.preprocessing import MinMaxScaler\n",
    "from sklearn.preprocessing import power_transform\n",
    "from sklearn.pipeline import Pipeline\n",
    "# Feature Selection\n",
    "import sklearn_relief as sr\n",
    "# Models\n",
    "from sklearn.model_selection import train_test_split\n",
    "from sklearn.ensemble import RandomForestRegressor"
   ]
  },
  {
   "cell_type": "code",
   "execution_count": 28,
   "metadata": {},
   "outputs": [],
   "source": [
    "data = utils.DBtable_to_df('../integration.duckdb', 'integratedTable')\n",
    "dataN = data.drop(columns=['Year','Madrid_section'])\n",
    "dataN = dataN.astype(float)\n",
    "\n",
    "l = len(dataN.columns)\n",
    "cols  =  dataN.columns.to_list()"
   ]
  },
  {
   "cell_type": "code",
   "execution_count": 29,
   "metadata": {},
   "outputs": [],
   "source": [
    "\n",
    "dataN.reset_index(drop=True, inplace=True)\n",
    "\n",
    "scaler = MinMaxScaler()\n",
    "\n",
    "dataN = power_transform(dataN, method='yeo-johnson')\n",
    "dataN = scaler.fit_transform(dataN)\n"
   ]
  },
  {
   "cell_type": "code",
   "execution_count": 30,
   "metadata": {},
   "outputs": [],
   "source": [
    "X = dataN[:,0:l-1]\n",
    "y = dataN[:,l-1]"
   ]
  },
  {
   "cell_type": "code",
   "execution_count": 31,
   "metadata": {},
   "outputs": [],
   "source": [
    "np.random.seed(144)\n",
    "X_train, X_test, y_train, y_test = train_test_split(X,y, test_size = 0.3, random_state = 0)\n",
    "r = sr.RReliefF(n_features = 5)\n",
    "r.fit_transform(X_train,y_train)\n",
    "values = r.w_\n",
    "res = dict(zip(cols, values))\n"
   ]
  },
  {
   "cell_type": "code",
   "execution_count": 38,
   "metadata": {},
   "outputs": [
    {
     "name": "stdout",
     "output_type": "stream",
     "text": [
      "[('two_adults_from_16_to_64_and_without_minors', 0.015594432962528468), ('single_men_aged_65_or_over', 0.015428778309626794), ('two_adults_over_35_and_two_adults_from_16_to_34', 0.012818191129674257), ('two_adults_one_at_least_65_and_without_minors', 0.011020861353819474), ('five_adults_and_0_or_more_minors', 0.010165147967174923), ('adult_women_with_one_or_more_minors', 0.009203195023015774), ('single_men_aged_16_to_64', 0.00900669801511736), ('two_adults_over_35_and_one_adult_from_16_to_34', 0.00847631291385851), ('four_adults_and_0_or_more_minors', 0.00832984282020851), ('three_adults_and_0_or_more_minors', 0.006416752529150235), ('single_women_aged_16_to_64', 0.006133410885407788), ('two_adults_and_one_minor', 0.004640239562764312), ('single_women_aged_65_or_over', 0.003011009674323502), ('adult_men_with_one_or_more_minors', 0.0023908130892677792), ('two_adults_over_35_and_one_adult_from_16_to_34_and_one_minor', 0.0005130041577153036), ('only_minors', 2.4681269711565666e-05), ('fifteen_or_more_inhabitants', -4.34446182550429e-05), ('two_adults_and_two_minors', -0.00013914244913160179), ('two_adults_over_35_and_one_adult_from_16_to_34_and_two_minors', -0.001965254430411484), ('two_adults_over_35_and_two_adults_from_16_to_34_and_one_minor', -0.0064960245882042175), ('two_adults_and_three_or_more_minors', -0.00785931504423603), ('two_adults_over_35_and_two_adults_from_16_to_34_and_two_or_more_minors', -0.00965289562503819)]\n"
     ]
    }
   ],
   "source": [
    "\n",
    "print(sorted(res.items(), key=lambda x:x[1],reverse=True))"
   ]
  },
  {
   "cell_type": "code",
   "execution_count": 39,
   "metadata": {},
   "outputs": [
    {
     "name": "stdout",
     "output_type": "stream",
     "text": [
      "NOF: 1, Score: 0.33928371925825307\n",
      "NOF: 2, Score: 0.19688446387411873\n",
      "NOF: 3, Score: 0.3188146067812194\n",
      "NOF: 4, Score: 0.6122951240078838\n",
      "NOF: 5, Score: 0.6476286603341066\n",
      "NOF: 6, Score: 0.6834289456868796\n",
      "NOF: 7, Score: 0.5237402306183462\n",
      "NOF: 8, Score: 0.6603478330407011\n",
      "NOF: 9, Score: 0.7417354301777586\n",
      "NOF: 10, Score: 0.7427913018125931\n",
      "High Score: NOF: 10, Score: 0.7427913018125931\n",
      "None\n"
     ]
    }
   ],
   "source": [
    "np.random.seed(144)\n",
    "nof_list=np.arange(1,11)     \n",
    "high_score=0\n",
    "nof=0           \n",
    "score_list =[]\n",
    "for n in range(len(nof_list)):\n",
    "    X_train, X_test, y_train, y_test = train_test_split(X,y, test_size = 0.3, random_state = 0)\n",
    "    fs = sr.RReliefF(n_features = nof_list[n])\n",
    "    relief = Pipeline([('fs', fs), ('m', RandomForestRegressor())])\n",
    "    relief.fit(X_train,y_train)\n",
    "    score = relief.score(X_test,y_test)\n",
    "    score_list.append(score)\n",
    "    print(f'NOF: {nof_list[n]}, Score: {score}')\n",
    "    if(score > high_score):\n",
    "        high_score = score\n",
    "        nof = nof_list[n]\n",
    "\n",
    "print (print(f'High Score: NOF: {nof}, Score: {high_score}'))"
   ]
  }
 ],
 "metadata": {
  "kernelspec": {
   "display_name": "Python 3",
   "language": "python",
   "name": "python3"
  },
  "language_info": {
   "codemirror_mode": {
    "name": "ipython",
    "version": 3
   },
   "file_extension": ".py",
   "mimetype": "text/x-python",
   "name": "python",
   "nbconvert_exporter": "python",
   "pygments_lexer": "ipython3",
   "version": "3.10.8"
  },
  "orig_nbformat": 4,
  "vscode": {
   "interpreter": {
    "hash": "aee8b7b246df8f9039afb4144a1f6fd8d2ca17a180786b69acc140d282b71a49"
   }
  }
 },
 "nbformat": 4,
 "nbformat_minor": 2
}
