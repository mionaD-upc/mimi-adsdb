{
 "cells": [
  {
   "cell_type": "code",
   "execution_count": 24,
   "metadata": {},
   "outputs": [],
   "source": [
    "import duckdb\n",
    "import os, sys\n",
    "module_path = os.path.abspath(os.path.join('../..'))\n",
    "if module_path not in sys.path:\n",
    "    sys.path.append(module_path)\n",
    "\n",
    "import utils \n",
    "\n",
    "# Base Libraries\n",
    "import numpy as np \n",
    "import pandas as pd\n",
    "import matplotlib.pyplot as plt\n",
    "import seaborn as sns\n",
    "# Transformation\n",
    "from sklearn.preprocessing import MinMaxScaler\n",
    "from sklearn.preprocessing import power_transform\n",
    "from sklearn.pipeline import Pipeline\n",
    "# Feature Selection\n",
    "import sklearn_relief as sr\n",
    "# Models\n",
    "from sklearn.model_selection import train_test_split\n",
    "from sklearn.ensemble import RandomForestRegressor"
   ]
  },
  {
   "cell_type": "code",
   "execution_count": 25,
   "metadata": {},
   "outputs": [],
   "source": [
    "data = utils.DBtable_to_df('../integration.duckdb', 'integratedTable')\n",
    "\n",
    "dataN = data.astype(float)\n",
    "\n",
    "l = len(dataN.columns)\n",
    "cols  =  dataN.columns.to_list()"
   ]
  },
  {
   "cell_type": "code",
   "execution_count": 26,
   "metadata": {},
   "outputs": [],
   "source": [
    "\n",
    "dataN.reset_index(drop=True, inplace=True)\n",
    "\n",
    "scaler = MinMaxScaler()\n",
    "\n",
    "dataN = power_transform(dataN, method='yeo-johnson')\n",
    "dataN = scaler.fit_transform(dataN)\n"
   ]
  },
  {
   "cell_type": "code",
   "execution_count": 27,
   "metadata": {},
   "outputs": [],
   "source": [
    "X = dataN[:,0:l-1]\n",
    "y = dataN[:,l-1]"
   ]
  },
  {
   "cell_type": "code",
   "execution_count": 28,
   "metadata": {},
   "outputs": [],
   "source": [
    "np.random.seed(144)\n",
    "X_train, X_test, y_train, y_test = train_test_split(X,y, test_size = 0.3, random_state = 0)\n",
    "r = sr.RReliefF(n_features = 5)\n",
    "r.fit_transform(X_train,y_train)\n",
    "values = r.w_\n",
    "res = dict(zip(cols, values))\n"
   ]
  },
  {
   "cell_type": "code",
   "execution_count": 29,
   "metadata": {},
   "outputs": [
    {
     "name": "stdout",
     "output_type": "stream",
     "text": [
      "[('Madrid_section', 0.05227810855278055), ('single_women_aged_16_to_64', 0.016008446315196184), ('single_men_aged_65_or_over', 0.015895604606090574), ('two_adults_over_35_and_one_adult_from_16_to_34', 0.011897664245560324), ('two_adults_and_three_or_more_minors', 0.011726878249723537), ('single_men_aged_16_to_64', 0.010958452781681019), ('five_adults_and_0_or_more_minors', 0.010566698851275591), ('four_adults_and_0_or_more_minors', 0.010479548836319338), ('two_adults_from_16_to_64_and_without_minors', 0.009808016961638709), ('single_women_aged_65_or_over', 0.009007451111840564), ('two_adults_and_one_minor', 0.008134259844397945), ('three_adults_and_0_or_more_minors', 0.00717515084940714), ('two_adults_over_35_and_two_adults_from_16_to_34_and_one_minor', 0.006763520222582836), ('two_adults_over_35_and_two_adults_from_16_to_34', 0.006601198122590697), ('adult_women_with_one_or_more_minors', 0.006020207663990605), ('two_adults_and_two_minors', 0.005709431095891962), ('two_adults_one_at_least_65_and_without_minors', 0.0026302208332137714), ('fifteen_or_more_inhabitants', 0.00032520536202822767), ('two_adults_over_35_and_one_adult_from_16_to_34_and_one_minor', -0.0012836540991613063), ('two_adults_over_35_and_two_adults_from_16_to_34_and_two_or_more_minors', -0.004139562530713625), ('adult_men_with_one_or_more_minors', -0.005629901540198198), ('two_adults_over_35_and_one_adult_from_16_to_34_and_two_minors', -0.006466181377153719), ('only_minors', -0.00904776374949956), ('Year', -0.10069495579707871)]\n"
     ]
    }
   ],
   "source": [
    "\n",
    "print(sorted(res.items(), key=lambda x:x[1],reverse=True))"
   ]
  },
  {
   "cell_type": "code",
   "execution_count": 30,
   "metadata": {},
   "outputs": [
    {
     "name": "stdout",
     "output_type": "stream",
     "text": [
      "NOF: 1, Score: 0.18040096409624518\n",
      "NOF: 2, Score: 0.7311909792196291\n",
      "NOF: 3, Score: 0.6908318675856129\n",
      "NOF: 4, Score: 0.7749330547819605\n",
      "NOF: 5, Score: 0.8015973296968971\n",
      "NOF: 6, Score: 0.7546486217999102\n",
      "NOF: 7, Score: 0.7393887887836773\n",
      "NOF: 8, Score: 0.8078296355011324\n",
      "NOF: 9, Score: 0.7411955555683194\n",
      "NOF: 10, Score: 0.7915810922967008\n",
      "High Score: NOF: 8, Score: 0.8078296355011324\n",
      "None\n"
     ]
    }
   ],
   "source": [
    "np.random.seed(144)\n",
    "nof_list=np.arange(1,11)     \n",
    "high_score=0\n",
    "nof=0           \n",
    "score_list =[]\n",
    "for n in range(len(nof_list)):\n",
    "    X_train, X_test, y_train, y_test = train_test_split(X,y, test_size = 0.3, random_state = 0)\n",
    "    fs = sr.RReliefF(n_features = nof_list[n])\n",
    "    relief = Pipeline([('fs', fs), ('m', RandomForestRegressor())])\n",
    "    relief.fit(X_train,y_train)\n",
    "    score = relief.score(X_test,y_test)\n",
    "    score_list.append(score)\n",
    "    print(f'NOF: {nof_list[n]}, Score: {score}')\n",
    "    if(score > high_score):\n",
    "        high_score = score\n",
    "        nof = nof_list[n]\n",
    "\n",
    "print(f'High Score: NOF: {nof}, Score: {high_score}')"
   ]
  }
 ],
 "metadata": {
  "kernelspec": {
   "display_name": "Python 3",
   "language": "python",
   "name": "python3"
  },
  "language_info": {
   "codemirror_mode": {
    "name": "ipython",
    "version": 3
   },
   "file_extension": ".py",
   "mimetype": "text/x-python",
   "name": "python",
   "nbconvert_exporter": "python",
   "pygments_lexer": "ipython3",
   "version": "3.8.10"
  },
  "orig_nbformat": 4,
  "vscode": {
   "interpreter": {
    "hash": "916dbcbb3f70747c44a77c7bcd40155683ae19c65e1c03b4aa3499c5328201f1"
   }
  }
 },
 "nbformat": 4,
 "nbformat_minor": 2
}
