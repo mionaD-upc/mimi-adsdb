{
 "cells": [
  {
   "cell_type": "code",
   "execution_count": 73,
   "metadata": {},
   "outputs": [],
   "source": [
    "import numpy as np\n",
    "import pandas as pd\n",
    "import os, sys\n",
    "module_path = os.path.abspath(os.path.join('../..'))\n",
    "if module_path not in sys.path:\n",
    "    sys.path.append(module_path)\n",
    "\n",
    "import utils\n",
    "from sklearn.ensemble import RandomForestRegressor\n",
    "from sklearn.tree import DecisionTreeRegressor\n",
    "from sklearn.model_selection import RandomizedSearchCV, GridSearchCV\n",
    "from sklearn import metrics\n",
    "import matplotlib.pyplot as plt\n",
    "from sklearn.inspection import permutation_importance\n",
    "import sklearn.metrics as metrics"
   ]
  },
  {
   "cell_type": "code",
   "execution_count": 72,
   "metadata": {},
   "outputs": [],
   "source": [
    "def train_data():\n",
    "    X_train = pd.read_pickle('../Feature generation/data-X_train.pkl.bz2', compression='bz2')\n",
    "    y_train = pd.read_pickle('../Feature generation/data-y_train.pkl.bz2', compression='bz2')\n",
    "    X_test  = pd.read_pickle('../Feature generation/data-X_test.pkl.bz2', compression='bz2')\n",
    "    y_test  = pd.read_pickle('../Feature generation/data-y_test.pkl.bz2', compression='bz2')\n",
    "\n",
    "    return X_train, X_test, y_train, y_test\n",
    "\n",
    "gridSearch = True"
   ]
  },
  {
   "attachments": {},
   "cell_type": "markdown",
   "metadata": {},
   "source": [
    "# Building Random Forest"
   ]
  },
  {
   "cell_type": "code",
   "execution_count": 62,
   "metadata": {},
   "outputs": [
    {
     "name": "stdout",
     "output_type": "stream",
     "text": [
      "Fitting 5 folds for each of 100 candidates, totalling 500 fits\n"
     ]
    }
   ],
   "source": [
    "X_train, X_test, y_train, y_test = train_data()\n",
    "\n",
    "if gridSearch:\n",
    "    n_est = [int(x) for x in np.linspace(start = 1, stop = 1000, num = 10)]\n",
    "    max_d = [int(x) for x in np.linspace(10, 1000, num = 10)]\n",
    "    max_d.append(None)\n",
    "    parameters = {'n_estimators': n_est, 'max_features': [None,'sqrt'], 'bootstrap': [True], 'max_depth': max_d, 'min_samples_split': [2,5], 'min_samples_leaf': [1, 2, 4]}\n",
    "    \n",
    "else :\n",
    "    parameters = {'n_estimators': [670], 'min_samples_split': [2], 'min_samples_leaf': [1], 'max_features': ['auto'], 'max_depth': [100], 'bootstrap': [True]}\n",
    "\n",
    "model = RandomForestRegressor()\n",
    "grid = RandomizedSearchCV(model, parameters, n_iter = 100, cv = 5, verbose=1, random_state=1, n_jobs = -1)\n",
    "grid.fit(X_train, y_train)\n",
    "\n",
    "best_model = grid.best_estimator_"
   ]
  },
  {
   "cell_type": "code",
   "execution_count": 63,
   "metadata": {},
   "outputs": [
    {
     "name": "stdout",
     "output_type": "stream",
     "text": [
      "- Best Params: {'n_estimators': 445, 'min_samples_split': 2, 'min_samples_leaf': 1, 'max_features': None, 'max_depth': 450, 'bootstrap': True}\n"
     ]
    },
    {
     "data": {
      "text/html": [
       "<div>\n",
       "<style scoped>\n",
       "    .dataframe tbody tr th:only-of-type {\n",
       "        vertical-align: middle;\n",
       "    }\n",
       "\n",
       "    .dataframe tbody tr th {\n",
       "        vertical-align: top;\n",
       "    }\n",
       "\n",
       "    .dataframe thead th {\n",
       "        text-align: right;\n",
       "    }\n",
       "</style>\n",
       "<table border=\"1\" class=\"dataframe\">\n",
       "  <thead>\n",
       "    <tr style=\"text-align: right;\">\n",
       "      <th></th>\n",
       "      <th>params</th>\n",
       "      <th>mean_test_score</th>\n",
       "      <th>rank_test_score</th>\n",
       "    </tr>\n",
       "  </thead>\n",
       "  <tbody>\n",
       "    <tr>\n",
       "      <th>15</th>\n",
       "      <td>{'n_estimators': 445, 'min_samples_split': 2, ...</td>\n",
       "      <td>0.836896</td>\n",
       "      <td>1</td>\n",
       "    </tr>\n",
       "    <tr>\n",
       "      <th>7</th>\n",
       "      <td>{'n_estimators': 112, 'min_samples_split': 2, ...</td>\n",
       "      <td>0.836815</td>\n",
       "      <td>2</td>\n",
       "    </tr>\n",
       "    <tr>\n",
       "      <th>99</th>\n",
       "      <td>{'n_estimators': 667, 'min_samples_split': 2, ...</td>\n",
       "      <td>0.836552</td>\n",
       "      <td>3</td>\n",
       "    </tr>\n",
       "    <tr>\n",
       "      <th>18</th>\n",
       "      <td>{'n_estimators': 667, 'min_samples_split': 2, ...</td>\n",
       "      <td>0.836285</td>\n",
       "      <td>4</td>\n",
       "    </tr>\n",
       "    <tr>\n",
       "      <th>3</th>\n",
       "      <td>{'n_estimators': 556, 'min_samples_split': 2, ...</td>\n",
       "      <td>0.836276</td>\n",
       "      <td>5</td>\n",
       "    </tr>\n",
       "    <tr>\n",
       "      <th>...</th>\n",
       "      <td>...</td>\n",
       "      <td>...</td>\n",
       "      <td>...</td>\n",
       "    </tr>\n",
       "    <tr>\n",
       "      <th>30</th>\n",
       "      <td>{'n_estimators': 1, 'min_samples_split': 2, 'm...</td>\n",
       "      <td>0.615599</td>\n",
       "      <td>96</td>\n",
       "    </tr>\n",
       "    <tr>\n",
       "      <th>21</th>\n",
       "      <td>{'n_estimators': 1, 'min_samples_split': 2, 'm...</td>\n",
       "      <td>0.583875</td>\n",
       "      <td>97</td>\n",
       "    </tr>\n",
       "    <tr>\n",
       "      <th>39</th>\n",
       "      <td>{'n_estimators': 1, 'min_samples_split': 2, 'm...</td>\n",
       "      <td>0.509264</td>\n",
       "      <td>98</td>\n",
       "    </tr>\n",
       "    <tr>\n",
       "      <th>60</th>\n",
       "      <td>{'n_estimators': 1, 'min_samples_split': 2, 'm...</td>\n",
       "      <td>0.506976</td>\n",
       "      <td>99</td>\n",
       "    </tr>\n",
       "    <tr>\n",
       "      <th>1</th>\n",
       "      <td>{'n_estimators': 1, 'min_samples_split': 5, 'm...</td>\n",
       "      <td>0.414613</td>\n",
       "      <td>100</td>\n",
       "    </tr>\n",
       "  </tbody>\n",
       "</table>\n",
       "<p>100 rows × 3 columns</p>\n",
       "</div>"
      ],
      "text/plain": [
       "                                               params  mean_test_score  \\\n",
       "15  {'n_estimators': 445, 'min_samples_split': 2, ...         0.836896   \n",
       "7   {'n_estimators': 112, 'min_samples_split': 2, ...         0.836815   \n",
       "99  {'n_estimators': 667, 'min_samples_split': 2, ...         0.836552   \n",
       "18  {'n_estimators': 667, 'min_samples_split': 2, ...         0.836285   \n",
       "3   {'n_estimators': 556, 'min_samples_split': 2, ...         0.836276   \n",
       "..                                                ...              ...   \n",
       "30  {'n_estimators': 1, 'min_samples_split': 2, 'm...         0.615599   \n",
       "21  {'n_estimators': 1, 'min_samples_split': 2, 'm...         0.583875   \n",
       "39  {'n_estimators': 1, 'min_samples_split': 2, 'm...         0.509264   \n",
       "60  {'n_estimators': 1, 'min_samples_split': 2, 'm...         0.506976   \n",
       "1   {'n_estimators': 1, 'min_samples_split': 5, 'm...         0.414613   \n",
       "\n",
       "    rank_test_score  \n",
       "15                1  \n",
       "7                 2  \n",
       "99                3  \n",
       "18                4  \n",
       "3                 5  \n",
       "..              ...  \n",
       "30               96  \n",
       "21               97  \n",
       "39               98  \n",
       "60               99  \n",
       "1               100  \n",
       "\n",
       "[100 rows x 3 columns]"
      ]
     },
     "execution_count": 63,
     "metadata": {},
     "output_type": "execute_result"
    }
   ],
   "source": [
    "print('- Best Params:', grid.best_params_)\n",
    "pd.DataFrame(grid.cv_results_).loc[:,['params', 'mean_test_score','rank_test_score']].sort_values(by='rank_test_score')"
   ]
  },
  {
   "cell_type": "code",
   "execution_count": 67,
   "metadata": {},
   "outputs": [
    {
     "name": "stdout",
     "output_type": "stream",
     "text": [
      "Stored 'grid' (RandomizedSearchCV)\n"
     ]
    }
   ],
   "source": [
    "%store grid"
   ]
  }
 ],
 "metadata": {
  "kernelspec": {
   "display_name": "Python 3",
   "language": "python",
   "name": "python3"
  },
  "language_info": {
   "codemirror_mode": {
    "name": "ipython",
    "version": 3
   },
   "file_extension": ".py",
   "mimetype": "text/x-python",
   "name": "python",
   "nbconvert_exporter": "python",
   "pygments_lexer": "ipython3",
   "version": "3.8.10"
  },
  "orig_nbformat": 4,
  "vscode": {
   "interpreter": {
    "hash": "916dbcbb3f70747c44a77c7bcd40155683ae19c65e1c03b4aa3499c5328201f1"
   }
  }
 },
 "nbformat": 4,
 "nbformat_minor": 2
}
