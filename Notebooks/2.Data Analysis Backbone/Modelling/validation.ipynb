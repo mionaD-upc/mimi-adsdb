{
 "cells": [
  {
   "cell_type": "code",
   "execution_count": 1,
   "metadata": {},
   "outputs": [],
   "source": [
    "import pandas as pd\n",
    "import matplotlib.pyplot as plt\n",
    "import numpy as np\n",
    "from sklearn.inspection import permutation_importance\n",
    "import sklearn.metrics as metrics\n",
    "%store -r grid"
   ]
  },
  {
   "cell_type": "code",
   "execution_count": 2,
   "metadata": {},
   "outputs": [],
   "source": [
    "def train_data():\n",
    "    X_train = pd.read_pickle('../Feature generation/data-X_train.pkl.bz2', compression='bz2')\n",
    "    y_train = pd.read_pickle('../Feature generation/data-y_train.pkl.bz2', compression='bz2')\n",
    "    X_test  = pd.read_pickle('../Feature generation/data-X_test.pkl.bz2', compression='bz2')\n",
    "    y_test  = pd.read_pickle('../Feature generation/data-y_test.pkl.bz2', compression='bz2')\n",
    "\n",
    "    return X_train, X_test, y_train, y_test\n",
    "\n",
    "def regression_results(y_true, y_pred):\n",
    "    explained_variance=metrics.explained_variance_score(y_true, y_pred)\n",
    "    mean_absolute_error=metrics.mean_absolute_error(y_true, y_pred) \n",
    "    mse=metrics.mean_squared_error(y_true, y_pred) \n",
    "    mean_squared_log_error=metrics.mean_squared_log_error(y_true, y_pred)\n",
    "    median_absolute_error=metrics.median_absolute_error(y_true, y_pred)\n",
    "\n",
    "    print('- explained_variance: ', round(explained_variance,4))    \n",
    "    print('- mean_squared_log_error: ', round(mean_squared_log_error,4))\n",
    "    print('- MAE: ', round(mean_absolute_error,4))\n",
    "    print('- MSE: ', round(mse,4))\n",
    "    print('- RMSE: ', round(np.sqrt(mse),4))\n"
   ]
  },
  {
   "attachments": {},
   "cell_type": "markdown",
   "metadata": {},
   "source": [
    "## Validating Random Forest"
   ]
  },
  {
   "cell_type": "code",
   "execution_count": 3,
   "metadata": {},
   "outputs": [
    {
     "name": "stdout",
     "output_type": "stream",
     "text": [
      "- R^2: { train: 0.979, CV: 0.837, test: 0.830}\n"
     ]
    }
   ],
   "source": [
    "X_train, X_test, y_train, y_test = train_data()\n",
    "best_model = grid.best_estimator_\n",
    "test_acc = best_model.score(X=X_test, y=y_test)\n",
    "train_acc = best_model.score(X=X_train, y=y_train)\n",
    "\n",
    "print(f'- R^2: {{ train: {train_acc:.3f}, CV: {grid.best_score_:.3f}, test: {test_acc:.3f}}}')"
   ]
  },
  {
   "cell_type": "code",
   "execution_count": 4,
   "metadata": {},
   "outputs": [
    {
     "name": "stdout",
     "output_type": "stream",
     "text": [
      "TRAIN SCORES\n",
      "explained_variance:  0.9791\n",
      "mean_squared_log_error:  0.0164\n",
      "MAE:  13.0032\n",
      "MSE:  352.2383\n",
      "RMSE:  18.768\n",
      "TEST SCORES\n",
      "explained_variance:  0.8303\n",
      "mean_squared_log_error:  0.0944\n",
      "MAE:  35.9347\n",
      "MSE:  2962.0435\n",
      "RMSE:  54.4247\n"
     ]
    }
   ],
   "source": [
    "print('TRAIN SCORES')\n",
    "regression_results(y_train,grid.predict(X_train))\n",
    "#\n",
    "print('TEST SCORES')\n",
    "regression_results(y_test,grid.predict(X_test))"
   ]
  }
 ],
 "metadata": {
  "kernelspec": {
   "display_name": "Python 3",
   "language": "python",
   "name": "python3"
  },
  "language_info": {
   "codemirror_mode": {
    "name": "ipython",
    "version": 3
   },
   "file_extension": ".py",
   "mimetype": "text/x-python",
   "name": "python",
   "nbconvert_exporter": "python",
   "pygments_lexer": "ipython3",
   "version": "3.8.10"
  },
  "orig_nbformat": 4,
  "vscode": {
   "interpreter": {
    "hash": "916dbcbb3f70747c44a77c7bcd40155683ae19c65e1c03b4aa3499c5328201f1"
   }
  }
 },
 "nbformat": 4,
 "nbformat_minor": 2
}
