{
 "cells": [
  {
   "cell_type": "markdown",
   "metadata": {},
   "source": [
    "# Formatted zone"
   ]
  },
  {
   "cell_type": "code",
   "execution_count": null,
   "metadata": {},
   "outputs": [],
   "source": [
    "# ! pip install duckdb --user --upgrade --quiet\n",
    "# ! pip install pyarrow --user --upgrade --quiet"
   ]
  },
  {
   "cell_type": "code",
   "execution_count": null,
   "metadata": {},
   "outputs": [],
   "source": [
    "import duckdb \n",
    "import pyarrow as pa\n",
    "import numpy as np"
   ]
  },
  {
   "cell_type": "code",
   "execution_count": null,
   "metadata": {},
   "outputs": [],
   "source": [
    "def columns(name_DB):\n",
    "    con =  duckdb.connect(f'{name_DB}.duckdb')\n",
    "    c1 = con.execute(f\"SELECT Column_Name FROM INFORMATION_SCHEMA.COLUMNS WHERE TABLE_NAME = N'{name_DB}18'\").arrow()\n",
    "    cols1 = c1.column(0).to_pylist()\n",
    "\n",
    "    c2 = con.execute(f\"SELECT Column_Name FROM INFORMATION_SCHEMA.COLUMNS WHERE TABLE_NAME = N'{name_DB}19'\").arrow()\n",
    "    cols2 = c2.column(0).to_pylist()\n",
    "\n",
    "    c3 = con.execute(f\"SELECT Column_Name FROM INFORMATION_SCHEMA.COLUMNS WHERE TABLE_NAME = N'{name_DB}20'\").arrow()\n",
    "    cols3 = c3.column(0).to_pylist()\n",
    "    return cols1, cols2, cols3\n",
    "\n",
    "def join_table(cols1,cols2,cols3):\n",
    "    v18 = [f'v18.{x} AS {x}_2018' for x in cols1]\n",
    "    v19 = [f'v19.{x} AS {x}_2019' for x in cols2]\n",
    "    v20 = [f'v20.{x} AS {x}_2020' for x in cols3]\n",
    "    all = np.concatenate([v18,v19,v20])\n",
    "    columns = ', '.join(all)\n",
    "    return columns\n",
    "\n",
    "def join_household():\n",
    "    cols1, cols2, cols3 = columns('household')\n",
    "    str_join = join_table(cols1[1:],cols2[1:],cols3[1:]) # skip section\n",
    "\n",
    "    con = duckdb.connect(f'household.duckdb')\n",
    "    query = f\"CREATE TABLE household AS SELECT v18.section, {str_join} FROM household18 v18 \"\n",
    "    query += \"FULL OUTER JOIN household19 v19 ON v18.section = v19.section \"\n",
    "    query += \"FULL OUTER JOIN household20 v20 ON v19.section = v20.section\"\n",
    "    df = con.execute(query)\n",
    "    con.close()\n",
    "\n",
    "def join_nationalities():\n",
    "    cols1, cols2, cols3 = columns('nationalities')\n",
    "    str_join = join_table(cols1[2:],cols2[2:],cols3[2:]) # skip code and madrid\n",
    "\n",
    "    con = duckdb.connect(f'nationalities.duckdb')\n",
    "    query = f\"CREATE TABLE nationalities AS SELECT v18.Code, v18.Madrid, {str_join} FROM nationalities18 v18 \"\n",
    "    query += \"FULL OUTER JOIN nationalities19 v19 ON v18.Code = v19.Code AND v18.Madrid = v19.Madrid \"\n",
    "    query += \"FULL OUTER JOIN nationalities20 v20 ON v19.Code = v20.Code AND v18.Madrid = v19.Madrid\"\n",
    "    df = con.execute(query)\n",
    "    con.close()\n",
    "\n",
    "def formatted_zone():\n",
    "    join_household()\n",
    "    join_nationalities()\n",
    "    "
   ]
  },
  {
   "cell_type": "code",
   "execution_count": null,
   "metadata": {},
   "outputs": [],
   "source": [
    "formatted_zone()"
   ]
  }
 ],
 "metadata": {
  "kernelspec": {
   "display_name": "Python 3.10.6 64-bit",
   "language": "python",
   "name": "python3"
  },
  "language_info": {
   "codemirror_mode": {
    "name": "ipython",
    "version": 3
   },
   "file_extension": ".py",
   "mimetype": "text/x-python",
   "name": "python",
   "nbconvert_exporter": "python",
   "pygments_lexer": "ipython3",
   "version": "3.10.6"
  },
  "orig_nbformat": 4,
  "vscode": {
   "interpreter": {
    "hash": "916dbcbb3f70747c44a77c7bcd40155683ae19c65e1c03b4aa3499c5328201f1"
   }
  }
 },
 "nbformat": 4,
 "nbformat_minor": 2
}
