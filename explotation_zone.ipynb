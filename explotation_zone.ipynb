{
 "cells": [
  {
   "cell_type": "code",
   "execution_count": 70,
   "metadata": {},
   "outputs": [],
   "source": [
    "import numpy as np\n",
    "import duckdb\n",
    "import pandas as pd"
   ]
  },
  {
   "cell_type": "code",
   "execution_count": 71,
   "metadata": {},
   "outputs": [],
   "source": [
    "def df_to_DBtable(DB,df,table): # repeated\n",
    "    \"\"\"\n",
    "    Creates a persistent table in DuckDB from the DataFrame content.\n",
    "    \"\"\"\n",
    "    con = duckdb.connect(DB)\n",
    "    con.register(table, df)\n",
    "    con.execute(f'CREATE TABLE {table} AS SELECT * FROM {table}')\n",
    "    con.close()"
   ]
  },
  {
   "cell_type": "markdown",
   "metadata": {},
   "source": [
    "## Join two sources into one table"
   ]
  },
  {
   "cell_type": "code",
   "execution_count": 72,
   "metadata": {},
   "outputs": [],
   "source": [
    "con = duckdb.connect('integration.duckdb')\n",
    "nationalites = con.execute(f'SELECT * FROM nationalitiesClean_Madrid').df()\n",
    "households = con.execute(f'SELECT * FROM householdClean_Madrid').df()\n",
    "con.close()\n",
    "\n",
    "# display(nationalites)\n",
    "# display(households)\n",
    "\n",
    "\n",
    "# # checking if all section codes are same in both tables\n",
    "\n",
    "# difference = [item for item in sectionsH if item not in sectionsN]\n",
    "# len(difference)\n",
    "\n",
    "# print(difference)\n",
    "# print(len(difference))\n",
    "\n",
    "result = households.merge(nationalites, how='inner', on=[\"Madrid_section\",\"Year\"])\n",
    "# result = pd.merge(households,nationalites, how='inner')\n",
    "\n",
    "\n",
    "df_to_DBtable('integration.duckdb',result, 'integratedTable')\n"
   ]
  },
  {
   "cell_type": "code",
   "execution_count": 73,
   "metadata": {},
   "outputs": [
    {
     "data": {
      "text/html": [
       "<div>\n",
       "<style scoped>\n",
       "    .dataframe tbody tr th:only-of-type {\n",
       "        vertical-align: middle;\n",
       "    }\n",
       "\n",
       "    .dataframe tbody tr th {\n",
       "        vertical-align: top;\n",
       "    }\n",
       "\n",
       "    .dataframe thead th {\n",
       "        text-align: right;\n",
       "    }\n",
       "</style>\n",
       "<table border=\"1\" class=\"dataframe\">\n",
       "  <thead>\n",
       "    <tr style=\"text-align: right;\">\n",
       "      <th></th>\n",
       "      <th>table_name</th>\n",
       "    </tr>\n",
       "  </thead>\n",
       "  <tbody>\n",
       "    <tr>\n",
       "      <th>0</th>\n",
       "      <td>nationalitiesClean_Madrid</td>\n",
       "    </tr>\n",
       "    <tr>\n",
       "      <th>1</th>\n",
       "      <td>householdClean_Madrid</td>\n",
       "    </tr>\n",
       "    <tr>\n",
       "      <th>2</th>\n",
       "      <td>integratedTable</td>\n",
       "    </tr>\n",
       "  </tbody>\n",
       "</table>\n",
       "</div>"
      ],
      "text/plain": [
       "                  table_name\n",
       "0  nationalitiesClean_Madrid\n",
       "1      householdClean_Madrid\n",
       "2            integratedTable"
      ]
     },
     "execution_count": 73,
     "metadata": {},
     "output_type": "execute_result"
    }
   ],
   "source": [
    "# check if all tables in integration.duckdb are created\n",
    "con = duckdb.connect('integration.duckdb')\n",
    "int_tables = con.execute(f'SELECT table_name FROM information_schema.tables').df()\n",
    "con.close()\n",
    "int_tables"
   ]
  }
 ],
 "metadata": {
  "kernelspec": {
   "display_name": "Python 3.10.8 64-bit",
   "language": "python",
   "name": "python3"
  },
  "language_info": {
   "codemirror_mode": {
    "name": "ipython",
    "version": 3
   },
   "file_extension": ".py",
   "mimetype": "text/x-python",
   "name": "python",
   "nbconvert_exporter": "python",
   "pygments_lexer": "ipython3",
   "version": "3.10.8"
  },
  "orig_nbformat": 4,
  "vscode": {
   "interpreter": {
    "hash": "aee8b7b246df8f9039afb4144a1f6fd8d2ca17a180786b69acc140d282b71a49"
   }
  }
 },
 "nbformat": 4,
 "nbformat_minor": 2
}
